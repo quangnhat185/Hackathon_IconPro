{
  "nbformat": 4,
  "nbformat_minor": 0,
  "metadata": {
    "colab": {
      "name": "Voting_classifier.ipynb",
      "provenance": [],
      "collapsed_sections": [],
      "machine_shape": "hm"
    },
    "kernelspec": {
      "name": "python3",
      "display_name": "Python 3"
    },
    "language_info": {
      "name": "python"
    },
    "accelerator": "GPU"
  },
  "cells": [
    {
      "cell_type": "code",
      "source": [
        "import numpy as np\n",
        "from numpy.random import seed\n",
        "import os\n",
        "seed(23)\n",
        "os.environ[\"PYTHONHASHSEED\"] = \"0\"\n",
        "np.random.seed(23)\n",
        "tf.random.set_seed(23)"
      ],
      "metadata": {
        "id": "0aHNJO6pUkcu"
      },
      "execution_count": null,
      "outputs": []
    },
    {
      "cell_type": "code",
      "execution_count": null,
      "metadata": {
        "id": "d8HhNH7tf5lm"
      },
      "outputs": [],
      "source": [
        "import warnings\n",
        "warnings.filterwarnings('ignore')\n",
        "import sklearn\n",
        "from sklearn.model_selection import train_test_split\n",
        "from sklearn.ensemble import VotingClassifier\n",
        "from sklearn.metrics import accuracy_score\n",
        "import tensorflow as tf\n",
        "from keras.models import load_model\n",
        "from tensorflow.keras.models import *\n",
        "from tensorflow.keras.layers import *\n",
        "from tensorflow import keras"
      ]
    },
    {
      "cell_type": "code",
      "source": [
        "from google.colab import drive\n",
        "drive.mount('/content/drive')"
      ],
      "metadata": {
        "colab": {
          "base_uri": "https://localhost:8080/"
        },
        "id": "fLXvoeolInoC",
        "outputId": "63e756c4-e77c-485c-a789-f93e6454e532"
      },
      "execution_count": null,
      "outputs": [
        {
          "output_type": "stream",
          "name": "stdout",
          "text": [
            "Mounted at /content/drive\n"
          ]
        }
      ]
    },
    {
      "cell_type": "code",
      "source": [
        "!cp -r ./drive/MyDrive/ICNA_hackathon/ ./\n",
        "!unzip ./ICNA_hackathon/FordA.zip"
      ],
      "metadata": {
        "colab": {
          "base_uri": "https://localhost:8080/"
        },
        "id": "TZK69oSzgEYU",
        "outputId": "b4dbb4c3-f5d4-4aaf-de2c-4b7deb68a7eb"
      },
      "execution_count": null,
      "outputs": [
        {
          "output_type": "stream",
          "name": "stdout",
          "text": [
            "Archive:  ./ICNA_hackathon/FordA.zip\n",
            "   creating: FordA/\n",
            "  inflating: FordA/config.json       \n",
            "  inflating: FordA/data.pkl          \n",
            "  inflating: FordA/FordA_TEST.ts     \n",
            "  inflating: FordA/FordA_TRAIN.ts    \n",
            "   creating: FordA/.ipynb_checkpoints/\n",
            "  inflating: FordA/.ipynb_checkpoints/config-checkpoint.json  \n",
            "  inflating: FordA/.ipynb_checkpoints/FordA_TEST-checkpoint.ts  \n",
            "  inflating: FordA/.ipynb_checkpoints/FordA_TRAIN-checkpoint.ts  \n"
          ]
        }
      ]
    },
    {
      "cell_type": "code",
      "source": [
        "import numpy as np\n",
        "from helper import Helper\n",
        "\n",
        "helper = Helper()\n",
        "file_train = \"./FordA/FordA_TRAIN.ts\"\n",
        "file_test = \"./FordA/FordA_TEST.ts\"\n",
        "x_train, y_train = helper.data_processing(file_train)\n",
        "x_test, y_test = helper.data_processing(file_test)\n",
        "\n",
        "n_classes = len(np.unique(y_train))\n",
        "\n",
        "idx = np.random.permutation(len(x_train))\n",
        "x_train = x_train[idx]\n",
        "y_train = y_train[idx]\n",
        "\n",
        "y_train[y_train == -1] = 0\n",
        "y_test[y_test == -1] = 0\n",
        "\n",
        "\n",
        "print(x_train.shape)\n",
        "print(y_train.shape)\n",
        "print(x_test.shape)\n"
      ],
      "metadata": {
        "colab": {
          "base_uri": "https://localhost:8080/"
        },
        "id": "9hcnyDK7gV2o",
        "outputId": "9b6c4880-eb32-43b2-b92a-5b1446230134"
      },
      "execution_count": null,
      "outputs": [
        {
          "output_type": "stream",
          "name": "stdout",
          "text": [
            "(3601, 500, 1)\n",
            "(3601,)\n",
            "(1320, 500, 1)\n"
          ]
        }
      ]
    },
    {
      "cell_type": "code",
      "source": [
        "# Unzip pretrained transformer_time2vec model\n",
        "\n",
        "# !cp -r ./drive/MyDrive/ICNA_hackathon/ ./\n",
        "!tar -xvf ./ICNA_hackathon/transformer_time2vec.tar.gz"
      ],
      "metadata": {
        "colab": {
          "base_uri": "https://localhost:8080/"
        },
        "id": "VhbPPPDnK7dI",
        "outputId": "6a5b1bb8-aea7-42cf-aad8-b5668a18bee9"
      },
      "execution_count": null,
      "outputs": [
        {
          "output_type": "stream",
          "name": "stdout",
          "text": [
            "./transformer_time2vec/\n",
            "./transformer_time2vec/keras_metadata.pb\n",
            "./transformer_time2vec/variables/\n",
            "./transformer_time2vec/variables/variables.index\n",
            "./transformer_time2vec/variables/variables.data-00000-of-00001\n",
            "./transformer_time2vec/saved_model.pb\n",
            "./transformer_time2vec/assets/\n"
          ]
        }
      ]
    },
    {
      "cell_type": "code",
      "source": [
        "class Time2Vector(Layer):\n",
        "  def __init__(self, seq_len, **kwargs):\n",
        "    super(Time2Vector, self).__init__()\n",
        "    self.seq_len = seq_len\n",
        "\n",
        "  def build(self, input_shape):\n",
        "    '''Initialize weights and biases with shape (batch, seq_len)'''\n",
        "    self.weights_linear = self.add_weight(name='weight_linear',\n",
        "                                shape=(int(self.seq_len),),\n",
        "                                initializer='uniform',\n",
        "                                trainable=True)\n",
        "    \n",
        "    self.bias_linear = self.add_weight(name='bias_linear',\n",
        "                                shape=(int(self.seq_len),),\n",
        "                                initializer='uniform',\n",
        "                                trainable=True)\n",
        "    \n",
        "    self.weights_periodic = self.add_weight(name='weight_periodic',\n",
        "                                shape=(int(self.seq_len),),\n",
        "                                initializer='uniform',\n",
        "                                trainable=True)\n",
        "\n",
        "    self.bias_periodic = self.add_weight(name='bias_periodic',\n",
        "                                shape=(int(self.seq_len),),\n",
        "                                initializer='uniform',\n",
        "                                trainable=True)\n",
        "\n",
        "  def call(self, x):\n",
        "    '''Calculate linear and periodic time features'''\n",
        "    x = tf.math.reduce_mean(x[:,:,:], axis=-1) \n",
        "    time_linear = self.weights_linear * x + self.bias_linear # Linear time feature\n",
        "    time_linear = tf.expand_dims(time_linear, axis=-1) # Add dimension (batch, seq_len, 1)\n",
        "    \n",
        "    time_periodic = tf.math.sin(tf.multiply(x, self.weights_periodic) + self.bias_periodic)\n",
        "    time_periodic = tf.expand_dims(time_periodic, axis=-1) # Add dimension (batch, seq_len, 1)\n",
        "    return tf.concat([time_linear, time_periodic], axis=-1) # shape = (batch, seq_len, 2)\n",
        "   \n",
        "  def get_config(self): # Needed for saving and loading model with custom layer\n",
        "    config = super().get_config().copy()\n",
        "    config.update({'seq_len': self.seq_len})\n",
        "    return config\n",
        "  "
      ],
      "metadata": {
        "id": "Wh8S6zM2KH3s"
      },
      "execution_count": null,
      "outputs": []
    },
    {
      "cell_type": "code",
      "source": [
        "class SingleAttention(Layer):\n",
        "  def __init__(self, d_k, d_v):\n",
        "    super(SingleAttention, self).__init__()\n",
        "    self.d_k = d_k\n",
        "    self.d_v = d_v\n",
        "\n",
        "  def build(self, input_shape):\n",
        "    self.query = Dense(self.d_k, \n",
        "                       input_shape=input_shape, \n",
        "                       kernel_initializer='glorot_uniform', \n",
        "                       bias_initializer='glorot_uniform')\n",
        "    \n",
        "    self.key = Dense(self.d_k, \n",
        "                     input_shape=input_shape, \n",
        "                     kernel_initializer='glorot_uniform', \n",
        "                     bias_initializer='glorot_uniform')\n",
        "    \n",
        "    self.value = Dense(self.d_v, \n",
        "                       input_shape=input_shape, \n",
        "                       kernel_initializer='glorot_uniform', \n",
        "                       bias_initializer='glorot_uniform')\n",
        "\n",
        "  def call(self, inputs): # inputs = (in_seq, in_seq, in_seq)\n",
        "    q = self.query(inputs[0])\n",
        "    k = self.key(inputs[1])\n",
        "\n",
        "    attn_weights = tf.matmul(q, k, transpose_b=True)\n",
        "    attn_weights = tf.map_fn(lambda x: x/np.sqrt(self.d_k), attn_weights)\n",
        "    attn_weights = tf.nn.softmax(attn_weights, axis=-1)\n",
        "    \n",
        "    v = self.value(inputs[2])\n",
        "    attn_out = tf.matmul(attn_weights, v)\n",
        "    return attn_out    \n",
        "\n",
        "#############################################################################\n",
        "\n",
        "class MultiAttention(Layer):\n",
        "  def __init__(self, d_k, d_v, n_heads):\n",
        "    super(MultiAttention, self).__init__()\n",
        "    self.d_k = d_k\n",
        "    self.d_v = d_v\n",
        "    self.n_heads = n_heads\n",
        "    self.attn_heads = list()\n",
        "\n",
        "  def build(self, input_shape):\n",
        "    for n in range(self.n_heads):\n",
        "      self.attn_heads.append(SingleAttention(self.d_k, self.d_v))  \n",
        "    \n",
        "    # input_shape[0]=(batch, seq_len, 7), input_shape[0][-1]=7 \n",
        "    self.linear = Dense(input_shape[0][-1], \n",
        "                        input_shape=input_shape, \n",
        "                        kernel_initializer='glorot_uniform', \n",
        "                        bias_initializer='glorot_uniform')\n",
        "\n",
        "  def call(self, inputs):\n",
        "    attn = [self.attn_heads[i](inputs) for i in range(self.n_heads)]\n",
        "    concat_attn = tf.concat(attn, axis=-1)\n",
        "    multi_linear = self.linear(concat_attn)\n",
        "    return multi_linear   \n",
        "\n",
        "#############################################################################\n",
        "\n",
        "class TransformerEncoder(Layer):\n",
        "  def __init__(self, d_k, d_v, n_heads, ff_dim, dropout=0.1, **kwargs):\n",
        "    super(TransformerEncoder, self).__init__()\n",
        "    self.d_k = d_k\n",
        "    self.d_v = d_v\n",
        "    self.n_heads = n_heads\n",
        "    self.ff_dim = ff_dim\n",
        "    self.attn_heads = list()\n",
        "    self.dropout_rate = dropout\n",
        "\n",
        "  def build(self, input_shape):\n",
        "    self.attn_multi = MultiAttention(self.d_k, self.d_v, self.n_heads)\n",
        "    self.attn_dropout = Dropout(self.dropout_rate)\n",
        "    self.attn_normalize = LayerNormalization(input_shape=input_shape, epsilon=1e-6)\n",
        "\n",
        "    self.ff_conv1D_1 = Conv1D(filters=self.ff_dim, kernel_size=1, activation='relu')\n",
        "    # input_shape[0]=(batch, seq_len, 7), input_shape[0][-1] = 7 \n",
        "    self.ff_conv1D_2 = Conv1D(filters=input_shape[0][-1], kernel_size=1) \n",
        "    self.ff_dropout = Dropout(self.dropout_rate)\n",
        "    self.ff_normalize = LayerNormalization(input_shape=input_shape, epsilon=1e-6)    \n",
        "  \n",
        "  def call(self, inputs): # inputs = (in_seq, in_seq, in_seq)\n",
        "    attn_layer = self.attn_multi(inputs)\n",
        "    attn_layer = self.attn_dropout(attn_layer)\n",
        "    attn_layer = self.attn_normalize(inputs[0] + attn_layer)\n",
        "\n",
        "    ff_layer = self.ff_conv1D_1(attn_layer)\n",
        "    ff_layer = self.ff_conv1D_2(ff_layer)\n",
        "    ff_layer = self.ff_dropout(ff_layer)\n",
        "    ff_layer = self.ff_normalize(inputs[0] + ff_layer)\n",
        "    return ff_layer \n",
        "\n",
        "  def get_config(self): # Needed for saving and loading model with custom layer\n",
        "    config = super().get_config().copy()\n",
        "    config.update({'d_k': self.d_k,\n",
        "                   'd_v': self.d_v,\n",
        "                   'n_heads': self.n_heads,\n",
        "                   'ff_dim': self.ff_dim,\n",
        "                   'attn_heads': self.attn_heads,\n",
        "                   'dropout_rate': self.dropout_rate})\n",
        "    return config          "
      ],
      "metadata": {
        "id": "BGJl68JqKH6Q"
      },
      "execution_count": null,
      "outputs": []
    },
    {
      "cell_type": "code",
      "source": [
        "input_shape = x_train.shape[1:]\n",
        "\n",
        "# create the first transformer without time_to_vector\n",
        "def create_transformer_one():\n",
        "  batch_size = 32\n",
        "  seq_len = 500\n",
        "\n",
        "  d_k = 256\n",
        "  d_v = 256\n",
        "  n_heads = 12\n",
        "  ff_dim = 256 \n",
        "   \n",
        "  '''Initialize time and transformer layers'''\n",
        "  time_embedding = Time2Vector(seq_len)\n",
        "  attn_layer1 = TransformerEncoder(d_k, d_v, n_heads, ff_dim)\n",
        "  attn_layer2 = TransformerEncoder(d_k, d_v, n_heads, ff_dim)\n",
        "  attn_layer3 = TransformerEncoder(d_k, d_v, n_heads, ff_dim)\n",
        "\n",
        "  '''Construct model'''\n",
        "  in_seq = Input(shape=(seq_len, 1))\n",
        "  x = time_embedding(in_seq)\n",
        "  x = Concatenate(axis=-1)([in_seq, x])\n",
        "  x = attn_layer1((x, x, x))\n",
        "  x = attn_layer2((x, x, x))\n",
        "  x = attn_layer3((x, x, x))\n",
        "  x = GlobalAveragePooling1D(data_format='channels_first')(x)\n",
        "  x = Dropout(0.1)(x)\n",
        "  x = Dense(256, activation='relu')(x)\n",
        "  x = Dropout(0.1)(x)\n",
        "  x = Dense(64, activation='relu')(x)\n",
        "  x = Dropout(0.1)(x)\n",
        "  out = Dense(1, activation='sigmoid')(x)\n",
        "\n",
        "\n",
        "  model = Model(inputs=in_seq, outputs=out)\n",
        "  model = load_model(\"./transformer_time2vec\")\n",
        "  model.compile(loss='binary_crossentropy', optimizer='adam', metrics=[\"binary_accuracy\"])\n",
        "  \n",
        "  return model\n"
      ],
      "metadata": {
        "id": "xYR1Upq2KH87"
      },
      "execution_count": null,
      "outputs": []
    },
    {
      "cell_type": "code",
      "source": [
        "# create sklearn voting classer wraper for Keras model\n",
        "time2vec = keras.wrappers.scikit_learn.KerasClassifier(lambda: create_model(),\n",
        "                                                  epochs=10, batch_size=16,\n",
        "                                                  verbose=True)\n",
        "time2vec._estimator_type = \"classifier\""
      ],
      "metadata": {
        "id": "0CaEt8WDMFB8"
      },
      "execution_count": null,
      "outputs": []
    },
    {
      "cell_type": "code",
      "source": [
        "from tensorflow.keras.losses import SparseCategoricalCrossentropy"
      ],
      "metadata": {
        "id": "ogPLenaAWm7H"
      },
      "execution_count": null,
      "outputs": []
    },
    {
      "cell_type": "code",
      "source": [
        "# unzip pre-trained model of the second transformer \n",
        "!tar -xvf ./ICNA_hackathon/transformer_ba.tar.gz"
      ],
      "metadata": {
        "colab": {
          "base_uri": "https://localhost:8080/"
        },
        "id": "aZNh7Lxm__qe",
        "outputId": "0f1680fa-6589-4718-f2db-03de1c56b209"
      },
      "execution_count": null,
      "outputs": [
        {
          "output_type": "stream",
          "name": "stdout",
          "text": [
            "./transformer_ba/\n",
            "./transformer_ba/keras_metadata.pb\n",
            "./transformer_ba/variables/\n",
            "./transformer_ba/variables/variables.index\n",
            "./transformer_ba/variables/variables.data-00000-of-00001\n",
            "./transformer_ba/saved_model.pb\n",
            "./transformer_ba/assets/\n"
          ]
        }
      ]
    },
    {
      "cell_type": "code",
      "source": [
        "from tensorflow import keras\n",
        "from tensorflow.keras import layers\n",
        "from keras.models import load_model\n",
        "\n",
        "\n",
        "def transformer_encoder(inputs, head_size, num_heads, ff_dim, dropout=0):\n",
        "    # Normalization and Attention\n",
        "    x = layers.LayerNormalization(epsilon=1e-6)(inputs)\n",
        "    x = layers.MultiHeadAttention(\n",
        "        key_dim=head_size, num_heads=num_heads, dropout=dropout\n",
        "    )(x, x)\n",
        "    x = layers.Dropout(dropout)(x)\n",
        "    res = x + inputs\n",
        "\n",
        "    # Feed Forward Part\n",
        "    x = layers.LayerNormalization(epsilon=1e-6)(res)\n",
        "    x = layers.Conv1D(filters=ff_dim, kernel_size=1)(x)\n",
        "    x = layers.LeakyReLU(alpha=0.1)(x)\n",
        "    x = layers.Dropout(dropout)(x)\n",
        "    x = layers.Conv1D(filters=inputs.shape[-1], kernel_size=1)(x)\n",
        "    return x + res\n",
        "\n",
        "def build_model(\n",
        "    input_shape,\n",
        "    head_size,\n",
        "    num_heads,\n",
        "    ff_dim,\n",
        "    num_transformer_blocks,\n",
        "    mlp_units,\n",
        "    dropout=0,\n",
        "    mlp_dropout=0,\n",
        "):\n",
        "    inputs = keras.Input(shape=input_shape)\n",
        "    x = inputs\n",
        "    for _ in range(num_transformer_blocks):\n",
        "        x = transformer_encoder(x, head_size, num_heads, ff_dim, dropout)\n",
        "\n",
        "    x = layers.GlobalAveragePooling1D(data_format=\"channels_first\")(x)\n",
        "    for dim in mlp_units:\n",
        "        x = layers.Dense(dim, activation=\"relu\")(x)\n",
        "        x = layers.Dropout(mlp_dropout)(x)\n",
        "    # outputs = layers.Dense(n_classes, activation=\"softmax\")(x)\n",
        "    outputs = layers.Dense(1, activation=\"sigmoid\")(x)\n",
        "    model = keras.Model(inputs, outputs)\n",
        "\n",
        "    model = load_model(\"./transformer_ba\")\n",
        "    model.compile(\n",
        "        loss=\"binary_crossentropy\",\n",
        "        optimizer=keras.optimizers.Adam(learning_rate=1e-3),\n",
        "        metrics=[\"binary_accuracy\"],)\n",
        "    \n",
        "    \n",
        "    return model\n",
        "  \n",
        "    \n",
        "model = build_model(\n",
        "    input_shape,\n",
        "    head_size=256,\n",
        "    num_heads=4,\n",
        "    ff_dim=4,\n",
        "    num_transformer_blocks=4,\n",
        "    mlp_units=[128],\n",
        "    mlp_dropout=0.4,\n",
        "    dropout=0.25,\n",
        ")\n",
        "\n",
        "model.evaluate(x_test, y_test, verbose=1)"
      ],
      "metadata": {
        "id": "G3-NEzM8-pW6",
        "colab": {
          "base_uri": "https://localhost:8080/"
        },
        "outputId": "e263492a-6513-4266-c6c5-4c3e63955378"
      },
      "execution_count": null,
      "outputs": [
        {
          "output_type": "stream",
          "name": "stdout",
          "text": [
            "42/42 [==============================] - 4s 81ms/step - loss: 0.3693 - binary_accuracy: 0.8371\n"
          ]
        },
        {
          "output_type": "execute_result",
          "data": {
            "text/plain": [
              "[0.3692592680454254, 0.8371211886405945]"
            ]
          },
          "metadata": {},
          "execution_count": 60
        }
      ]
    },
    {
      "cell_type": "code",
      "source": [
        "# create sklearn voting classer wraper for Keras model\n",
        "transformer = keras.wrappers.scikit_learn.KerasClassifier(lambda: build_model(\n",
        "                                                                              input_shape,\n",
        "                                                                              head_size=256,\n",
        "                                                                              num_heads=4,\n",
        "                                                                              ff_dim=4,\n",
        "                                                                              num_transformer_blocks=4,\n",
        "                                                                              mlp_units=[128],\n",
        "                                                                              mlp_dropout=0.4,\n",
        "                                                                              dropout=0.25,), \n",
        "                                                          epochs=1, batch_size=64,verbose=True)\n",
        "transformer._estimator_type = \"classifier\""
      ],
      "metadata": {
        "id": "G01XFpNOAN2O"
      },
      "execution_count": null,
      "outputs": []
    },
    {
      "cell_type": "code",
      "source": [
        "from sklearn.model_selection import cross_val_score\n",
        "\n",
        "voting2 = VotingClassifier(estimators=[(\"Time2vec\",time2vec), (\"Transformer\", transformer)], voting='soft',flatten_transform=True)\n",
        "voting2.fit(x_train, y_train)"
      ],
      "metadata": {
        "colab": {
          "base_uri": "https://localhost:8080/"
        },
        "id": "YhXGWfGPjvme",
        "outputId": "9ad26425-0b5c-45b2-da49-489cc55da63a"
      },
      "execution_count": null,
      "outputs": [
        {
          "output_type": "stream",
          "name": "stdout",
          "text": [
            "Epoch 1/10\n",
            "226/226 [==============================] - 89s 327ms/step - loss: 0.4932 - binary_accuracy: 0.7667\n",
            "Epoch 2/10\n",
            "226/226 [==============================] - 73s 325ms/step - loss: 0.4514 - binary_accuracy: 0.7998\n",
            "Epoch 3/10\n",
            "226/226 [==============================] - 75s 330ms/step - loss: 0.4276 - binary_accuracy: 0.8103\n",
            "Epoch 4/10\n",
            "226/226 [==============================] - 74s 325ms/step - loss: 0.3939 - binary_accuracy: 0.8295\n",
            "Epoch 5/10\n",
            "226/226 [==============================] - 73s 325ms/step - loss: 0.3617 - binary_accuracy: 0.8517\n",
            "Epoch 6/10\n",
            "226/226 [==============================] - 73s 325ms/step - loss: 0.3285 - binary_accuracy: 0.8636\n",
            "Epoch 7/10\n",
            "226/226 [==============================] - 73s 325ms/step - loss: 0.2988 - binary_accuracy: 0.8759\n",
            "Epoch 8/10\n",
            "226/226 [==============================] - 73s 325ms/step - loss: 0.2682 - binary_accuracy: 0.8911\n",
            "Epoch 9/10\n",
            "226/226 [==============================] - 73s 325ms/step - loss: 0.2440 - binary_accuracy: 0.9047\n",
            "Epoch 10/10\n",
            "226/226 [==============================] - 73s 325ms/step - loss: 0.2400 - binary_accuracy: 0.9064\n",
            "57/57 [==============================] - 32s 497ms/step - loss: 0.2517 - binary_accuracy: 0.8995\n"
          ]
        },
        {
          "output_type": "execute_result",
          "data": {
            "text/plain": [
              "VotingClassifier(estimators=[('Transformer',\n",
              "                              <keras.wrappers.scikit_learn.KerasClassifier object at 0x7f9d84273190>),\n",
              "                             ('Time2vec',\n",
              "                              <keras.wrappers.scikit_learn.KerasClassifier object at 0x7f9d99936550>),\n",
              "                             ('Transformer',\n",
              "                              <keras.wrappers.scikit_learn.KerasClassifier object at 0x7f9d99943790>)],\n",
              "                 voting='soft')"
            ]
          },
          "metadata": {},
          "execution_count": 72
        }
      ]
    },
    {
      "cell_type": "code",
      "source": [
        "from sklearn import metrics\n",
        "\n",
        "y_pred = voting2.predict(x_test)\n",
        "y_pred = np.where(y_pred > 0.5,1,0)\n",
        "\n",
        "\n",
        "cm = metrics.confusion_matrix(y_test, y_pred)\n",
        "balanced_accuracy = metrics.balanced_accuracy_score(y_test, y_pred)\n",
        "print(cm)\n",
        "print(balanced_accuracy)"
      ],
      "metadata": {
        "colab": {
          "base_uri": "https://localhost:8080/"
        },
        "id": "FYB-BkEB8dRZ",
        "outputId": "a461160e-f311-47e5-91f6-4bb58c899349"
      },
      "execution_count": null,
      "outputs": [
        {
          "output_type": "stream",
          "name": "stdout",
          "text": [
            "[[627  54]\n",
            " [ 65 574]]\n",
            "0.9094917030326846\n"
          ]
        }
      ]
    },
    {
      "cell_type": "code",
      "source": [
        "import matplotlib.pyplot as plt\n",
        "from sklearn.metrics import plot_confusion_matrix\n",
        "plot_confusion_matrix(voting2, x_test, y_test)  \n",
        "plt.savefig(\"confusion_matrix_90.png\", dpi=300)\n",
        "plt.show()"
      ],
      "metadata": {
        "colab": {
          "base_uri": "https://localhost:8080/",
          "height": 279
        },
        "id": "R1UxWOZm3MWX",
        "outputId": "17a700e5-6b86-4a3e-adef-62b0a2eb86e1"
      },
      "execution_count": null,
      "outputs": [
        {
          "output_type": "display_data",
          "data": {
            "text/plain": [
              "<Figure size 432x288 with 2 Axes>"
            ],
            "image/png": "[encoded data removed]"
          },
          "metadata": {
            "needs_background": "light"
          }
        }
      ]
    },
    {
      "cell_type": "code",
      "source": [
        ""
      ],
      "metadata": {
        "id": "V0g7mFivGs0C"
      },
      "execution_count": null,
      "outputs": []
    }
  ]
}
