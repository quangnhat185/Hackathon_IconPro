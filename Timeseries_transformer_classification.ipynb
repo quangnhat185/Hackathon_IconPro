{
  "cells": [
    {
      "cell_type": "code",
      "source": [
        "from google.colab import drive\n",
        "drive.mount('/content/drive')"
      ],
      "metadata": {
        "colab": {
          "base_uri": "https://localhost:8080/"
        },
        "id": "IB2_QW4pcr9z",
        "outputId": "78a734ae-c107-401d-ab48-dbc9e9865a18"
      },
      "execution_count": null,
      "outputs": [
        {
          "output_type": "stream",
          "name": "stdout",
          "text": [
            "Drive already mounted at /content/drive; to attempt to forcibly remount, call drive.mount(\"/content/drive\", force_remount=True).\n"
          ]
        }
      ]
    },
    {
      "cell_type": "code",
      "source": [
        "# load dataset from gdrive\n",
        "\n",
        "!cp ./drive/MyDrive/ICNA_hackathon/* ./\n",
        "!unzip FordA.zip"
      ],
      "metadata": {
        "id": "8h3pjSprcv0C"
      },
      "execution_count": null,
      "outputs": []
    },
    {
      "cell_type": "code",
      "execution_count": null,
      "source": [
        "import numpy as np\n",
        "from helper import Helper\n",
        "helper = Helper()\n",
        "\n",
        "file_train = \"./FordA/FordA_TRAIN.ts\"\n",
        "file_test = \"./FordA/FordA_TEST.ts\"\n",
        "x_train, y_train = helper.data_processing(file_train)\n",
        "x_test, y_test = helper.data_processing(file_test)\n",
        "\n",
        "n_classes = len(np.unique(y_train))\n",
        "\n",
        "idx = np.random.permutation(len(x_train))\n",
        "x_train = x_train[idx]\n",
        "y_train = y_train[idx]\n",
        "\n",
        "y_train[y_train == -1] = 0\n",
        "y_test[y_test == -1] = 0"
      ],
      "outputs": [],
      "metadata": {
        "id": "_a7OMp25b6ab"
      }
    },
    {
      "cell_type": "code",
      "source": [
        "print(x_train.shape)\n",
        "print(y_train.shape)"
      ],
      "metadata": {
        "id": "ha4I2MqWdtMk"
      },
      "execution_count": null,
      "outputs": []
    },
    {
      "cell_type": "code",
      "execution_count": null,
      "source": [
        "from tensorflow import keras\n",
        "from tensorflow.keras import layers"
      ],
      "outputs": [],
      "metadata": {
        "id": "TkwQqeTtb6ad"
      }
    },
    {
      "cell_type": "markdown",
      "source": [
        "We include residual connections, layer normalization, and dropout.\n",
        "The resulting layer can be stacked multiple times.\n",
        "\n",
        "The projection layers are implemented through `keras.layers.Conv1D`."
      ],
      "metadata": {
        "id": "1quD35tab6ae"
      }
    },
    {
      "cell_type": "markdown",
      "source": [
        "The main part of our model is now complete. We can stack multiple of those\n",
        "`transformer_encoder` blocks and we can also proceed to add the final\n",
        "Multi-Layer Perceptron classification head. Apart from a stack of `Dense`\n",
        "layers, we need to reduce the output tensor of the `TransformerEncoder` part of\n",
        "our model down to a vector of features for each data point in the current\n",
        "batch. A common way to achieve this is to use a pooling layer. For\n",
        "this example, a `GlobalAveragePooling1D` layer is sufficient."
      ],
      "metadata": {
        "id": "TGKvXYPpb6af"
      }
    },
    {
      "cell_type": "code",
      "execution_count": null,
      "source": [
        "\n",
        "def transformer_encoder(inputs, head_size, num_heads, ff_dim, dropout=0):\n",
        "    # Normalization and Attention\n",
        "    x = layers.LayerNormalization(epsilon=1e-6)(inputs)\n",
        "    x = layers.MultiHeadAttention(\n",
        "        key_dim=head_size, num_heads=num_heads, dropout=dropout\n",
        "    )(x, x)\n",
        "    x = layers.Dropout(dropout)(x)\n",
        "    res = x + inputs\n",
        "\n",
        "    # Feed Forward Part\n",
        "    x = layers.LayerNormalization(epsilon=1e-6)(res)\n",
        "    x = layers.Conv1D(filters=ff_dim, kernel_size=1, activation=\"relu\")(x)\n",
        "    x = layers.Dropout(dropout)(x)\n",
        "    x = layers.Conv1D(filters=inputs.shape[-1], kernel_size=1)(x)\n",
        "    return x + res\n",
        "\n",
        "def build_model(\n",
        "    input_shape,\n",
        "    head_size,\n",
        "    num_heads,\n",
        "    ff_dim,\n",
        "    num_transformer_blocks,\n",
        "    mlp_units,\n",
        "    dropout=0,\n",
        "    mlp_dropout=0,\n",
        "):\n",
        "    inputs = keras.Input(shape=input_shape)\n",
        "    x = inputs\n",
        "    for _ in range(num_transformer_blocks):\n",
        "        x = transformer_encoder(x, head_size, num_heads, ff_dim, dropout)\n",
        "\n",
        "    x = layers.GlobalAveragePooling1D(data_format=\"channels_first\")(x)\n",
        "    for dim in mlp_units:\n",
        "        x = layers.Dense(dim, activation=\"relu\")(x)\n",
        "        x = layers.Dropout(mlp_dropout)(x)\n",
        "    outputs = layers.Dense(1, activation=\"sigmoid\")(x)\n",
        "    return keras.Model(inputs, outputs)\n"
      ],
      "outputs": [],
      "metadata": {
        "id": "h_fF21Wxb6af"
      }
    },
    {
      "cell_type": "markdown",
      "source": [
        "## Train and evaluate"
      ],
      "metadata": {
        "id": "pPzCYZHab6ag"
      }
    },
    {
      "cell_type": "code",
      "execution_count": null,
      "source": [
        "input_shape = x_train.shape[1:]\n",
        "\n",
        "model = build_model(\n",
        "    input_shape,\n",
        "    head_size=256,\n",
        "    num_heads=4,\n",
        "    ff_dim=4,\n",
        "    num_transformer_blocks=4,\n",
        "    mlp_units=[128],\n",
        "    mlp_dropout=0.4,\n",
        "    dropout=0.25,\n",
        ")\n",
        "\n",
        "\n",
        "checkpoint_path = \"./transformer_ba\"\n",
        "model_checkpoint = keras.callbacks.ModelCheckpoint(\n",
        "    filepath=checkpoint_path,\n",
        "    monitor=\"val_loss\",\n",
        "    model=\"min\",\n",
        "    verbose=0,\n",
        "    save_best_only=True,\n",
        ")\n",
        "\n",
        "model = keras.models.load_model(\"./transformer_ba\")\n",
        "optimizer = keras.optimizers.Adam(learning_rate=1e-5)\n",
        "model.compile(\n",
        "    loss=\"binary_crossentropy\",\n",
        "    optimizer=optimizer,\n",
        "    metrics=[\"binary_accuracy\"],\n",
        ")\n",
        "model.summary()\n",
        "\n",
        "early_stopping = keras.callbacks.EarlyStopping(patience=20, restore_best_weights=True)\n",
        "\n",
        "history = model.fit(\n",
        "    x_train,\n",
        "    y_train,\n",
        "    validation_split=0.1,\n",
        "    epochs=200,\n",
        "    batch_size=64,\n",
        "    callbacks=[early_stopping, model_checkpoint],\n",
        ")\n",
        "\n"
      ],
      "outputs": [
        {
          "output_type": "stream",
          "name": "stdout",
          "text": [
            "Model: \"model_1\"\n",
            "__________________________________________________________________________________________________\n",
            " Layer (type)                   Output Shape         Param #     Connected to                     \n",
            "==================================================================================================\n",
            " input_2 (InputLayer)           [(None, 500, 1)]     0           []                               \n",
            "                                                                                                  \n",
            " layer_normalization_8 (LayerNo  (None, 500, 1)      2           ['input_2[0][0]']                \n",
            " rmalization)                                                                                     \n",
            "                                                                                                  \n",
            " multi_head_attention_4 (MultiH  (None, 500, 1)      7169        ['layer_normalization_8[0][0]',  \n",
            " eadAttention)                                                    'layer_normalization_8[0][0]']  \n",
            "                                                                                                  \n",
            " dropout_9 (Dropout)            (None, 500, 1)       0           ['multi_head_attention_4[0][0]'] \n",
            "                                                                                                  \n",
            " tf.__operators__.add_8 (TFOpLa  (None, 500, 1)      0           ['dropout_9[0][0]',              \n",
            " mbda)                                                            'input_2[0][0]']                \n",
            "                                                                                                  \n",
            " layer_normalization_9 (LayerNo  (None, 500, 1)      2           ['tf.__operators__.add_8[0][0]'] \n",
            " rmalization)                                                                                     \n",
            "                                                                                                  \n",
            " conv1d_8 (Conv1D)              (None, 500, 4)       8           ['layer_normalization_9[0][0]']  \n",
            "                                                                                                  \n",
            " dropout_10 (Dropout)           (None, 500, 4)       0           ['conv1d_8[0][0]']               \n",
            "                                                                                                  \n",
            " conv1d_9 (Conv1D)              (None, 500, 1)       5           ['dropout_10[0][0]']             \n",
            "                                                                                                  \n",
            " tf.__operators__.add_9 (TFOpLa  (None, 500, 1)      0           ['conv1d_9[0][0]',               \n",
            " mbda)                                                            'tf.__operators__.add_8[0][0]'] \n",
            "                                                                                                  \n",
            " layer_normalization_10 (LayerN  (None, 500, 1)      2           ['tf.__operators__.add_9[0][0]'] \n",
            " ormalization)                                                                                    \n",
            "                                                                                                  \n",
            " multi_head_attention_5 (MultiH  (None, 500, 1)      7169        ['layer_normalization_10[0][0]', \n",
            " eadAttention)                                                    'layer_normalization_10[0][0]'] \n",
            "                                                                                                  \n",
            " dropout_11 (Dropout)           (None, 500, 1)       0           ['multi_head_attention_5[0][0]'] \n",
            "                                                                                                  \n",
            " tf.__operators__.add_10 (TFOpL  (None, 500, 1)      0           ['dropout_11[0][0]',             \n",
            " ambda)                                                           'tf.__operators__.add_9[0][0]'] \n",
            "                                                                                                  \n",
            " layer_normalization_11 (LayerN  (None, 500, 1)      2           ['tf.__operators__.add_10[0][0]']\n",
            " ormalization)                                                                                    \n",
            "                                                                                                  \n",
            " conv1d_10 (Conv1D)             (None, 500, 4)       8           ['layer_normalization_11[0][0]'] \n",
            "                                                                                                  \n",
            " dropout_12 (Dropout)           (None, 500, 4)       0           ['conv1d_10[0][0]']              \n",
            "                                                                                                  \n",
            " conv1d_11 (Conv1D)             (None, 500, 1)       5           ['dropout_12[0][0]']             \n",
            "                                                                                                  \n",
            " tf.__operators__.add_11 (TFOpL  (None, 500, 1)      0           ['conv1d_11[0][0]',              \n",
            " ambda)                                                           'tf.__operators__.add_10[0][0]']\n",
            "                                                                                                  \n",
            " layer_normalization_12 (LayerN  (None, 500, 1)      2           ['tf.__operators__.add_11[0][0]']\n",
            " ormalization)                                                                                    \n",
            "                                                                                                  \n",
            " multi_head_attention_6 (MultiH  (None, 500, 1)      7169        ['layer_normalization_12[0][0]', \n",
            " eadAttention)                                                    'layer_normalization_12[0][0]'] \n",
            "                                                                                                  \n",
            " dropout_13 (Dropout)           (None, 500, 1)       0           ['multi_head_attention_6[0][0]'] \n",
            "                                                                                                  \n",
            " tf.__operators__.add_12 (TFOpL  (None, 500, 1)      0           ['dropout_13[0][0]',             \n",
            " ambda)                                                           'tf.__operators__.add_11[0][0]']\n",
            "                                                                                                  \n",
            " layer_normalization_13 (LayerN  (None, 500, 1)      2           ['tf.__operators__.add_12[0][0]']\n",
            " ormalization)                                                                                    \n",
            "                                                                                                  \n",
            " conv1d_12 (Conv1D)             (None, 500, 4)       8           ['layer_normalization_13[0][0]'] \n",
            "                                                                                                  \n",
            " dropout_14 (Dropout)           (None, 500, 4)       0           ['conv1d_12[0][0]']              \n",
            "                                                                                                  \n",
            " conv1d_13 (Conv1D)             (None, 500, 1)       5           ['dropout_14[0][0]']             \n",
            "                                                                                                  \n",
            " tf.__operators__.add_13 (TFOpL  (None, 500, 1)      0           ['conv1d_13[0][0]',              \n",
            " ambda)                                                           'tf.__operators__.add_12[0][0]']\n",
            "                                                                                                  \n",
            " layer_normalization_14 (LayerN  (None, 500, 1)      2           ['tf.__operators__.add_13[0][0]']\n",
            " ormalization)                                                                                    \n",
            "                                                                                                  \n",
            " multi_head_attention_7 (MultiH  (None, 500, 1)      7169        ['layer_normalization_14[0][0]', \n",
            " eadAttention)                                                    'layer_normalization_14[0][0]'] \n",
            "                                                                                                  \n",
            " dropout_15 (Dropout)           (None, 500, 1)       0           ['multi_head_attention_7[0][0]'] \n",
            "                                                                                                  \n",
            " tf.__operators__.add_14 (TFOpL  (None, 500, 1)      0           ['dropout_15[0][0]',             \n",
            " ambda)                                                           'tf.__operators__.add_13[0][0]']\n",
            "                                                                                                  \n",
            " layer_normalization_15 (LayerN  (None, 500, 1)      2           ['tf.__operators__.add_14[0][0]']\n",
            " ormalization)                                                                                    \n",
            "                                                                                                  \n",
            " conv1d_14 (Conv1D)             (None, 500, 4)       8           ['layer_normalization_15[0][0]'] \n",
            "                                                                                                  \n",
            " dropout_16 (Dropout)           (None, 500, 4)       0           ['conv1d_14[0][0]']              \n",
            "                                                                                                  \n",
            " conv1d_15 (Conv1D)             (None, 500, 1)       5           ['dropout_16[0][0]']             \n",
            "                                                                                                  \n",
            " tf.__operators__.add_15 (TFOpL  (None, 500, 1)      0           ['conv1d_15[0][0]',              \n",
            " ambda)                                                           'tf.__operators__.add_14[0][0]']\n",
            "                                                                                                  \n",
            " global_average_pooling1d_1 (Gl  (None, 500)         0           ['tf.__operators__.add_15[0][0]']\n",
            " obalAveragePooling1D)                                                                            \n",
            "                                                                                                  \n",
            " dense_2 (Dense)                (None, 128)          64128       ['global_average_pooling1d_1[0][0\n",
            "                                                                 ]']                              \n",
            "                                                                                                  \n",
            " dropout_17 (Dropout)           (None, 128)          0           ['dense_2[0][0]']                \n",
            "                                                                                                  \n",
            " dense_3 (Dense)                (None, 1)            129         ['dropout_17[0][0]']             \n",
            "                                                                                                  \n",
            "==================================================================================================\n",
            "Total params: 93,001\n",
            "Trainable params: 93,001\n",
            "Non-trainable params: 0\n",
            "__________________________________________________________________________________________________\n",
            "Epoch 1/200\n",
            "51/51 [==============================] - ETA: 0s - loss: 0.2031 - binary_accuracy: 0.9256"
          ]
        },
        {
          "output_type": "stream",
          "name": "stderr",
          "text": [
            "WARNING:absl:Found untraced functions such as query_layer_call_fn, query_layer_call_and_return_conditional_losses, key_layer_call_fn, key_layer_call_and_return_conditional_losses, value_layer_call_fn while saving (showing 5 of 48). These functions will not be directly callable after loading.\n"
          ]
        },
        {
          "output_type": "stream",
          "name": "stdout",
          "text": [
            "INFO:tensorflow:Assets written to: ./transformer_ba/assets\n"
          ]
        },
        {
          "output_type": "stream",
          "name": "stderr",
          "text": [
            "INFO:tensorflow:Assets written to: ./transformer_ba/assets\n"
          ]
        },
        {
          "output_type": "stream",
          "name": "stdout",
          "text": [
            "\b\b\b\b\b\b\b\b\b\b\b\b\b\b\b\b\b\b\b\b\b\b\b\b\b\b\b\b\b\b\b\b\b\b\b\b\b\b\b\b\b\b\b\b\b\b\b\b\b\b\b\b\b\b\b\b\b\b\b\b\b\b\b\b\b\b\b\b\b\b\b\b\b\b\b\b\b\b\b\b\b\b\b\b\b\b\b\b\b\r51/51 [==============================] - 27s 438ms/step - loss: 0.2031 - binary_accuracy: 0.9256 - val_loss: 0.3825 - val_binary_accuracy: 0.8449\n",
            "Epoch 2/200\n",
            "51/51 [==============================] - 15s 286ms/step - loss: 0.1949 - binary_accuracy: 0.9306 - val_loss: 0.3842 - val_binary_accuracy: 0.8449\n",
            "Epoch 3/200\n",
            "51/51 [==============================] - 15s 286ms/step - loss: 0.2029 - binary_accuracy: 0.9269 - val_loss: 0.3858 - val_binary_accuracy: 0.8421\n",
            "Epoch 4/200\n",
            "51/51 [==============================] - 15s 286ms/step - loss: 0.1915 - binary_accuracy: 0.9355 - val_loss: 0.3874 - val_binary_accuracy: 0.8393\n",
            "Epoch 5/200\n",
            "51/51 [==============================] - 15s 286ms/step - loss: 0.1888 - binary_accuracy: 0.9336 - val_loss: 0.3889 - val_binary_accuracy: 0.8421\n",
            "Epoch 6/200\n",
            "51/51 [==============================] - 15s 286ms/step - loss: 0.2027 - binary_accuracy: 0.9284 - val_loss: 0.3899 - val_binary_accuracy: 0.8421\n",
            "Epoch 7/200\n",
            "51/51 [==============================] - 15s 286ms/step - loss: 0.1968 - binary_accuracy: 0.9265 - val_loss: 0.3909 - val_binary_accuracy: 0.8393\n",
            "Epoch 8/200\n",
            "51/51 [==============================] - 15s 286ms/step - loss: 0.1900 - binary_accuracy: 0.9361 - val_loss: 0.3918 - val_binary_accuracy: 0.8366\n",
            "Epoch 9/200\n",
            "51/51 [==============================] - 15s 286ms/step - loss: 0.1880 - binary_accuracy: 0.9315 - val_loss: 0.3919 - val_binary_accuracy: 0.8338\n",
            "Epoch 10/200\n",
            "51/51 [==============================] - 15s 286ms/step - loss: 0.1815 - binary_accuracy: 0.9315 - val_loss: 0.3924 - val_binary_accuracy: 0.8338\n",
            "Epoch 11/200\n",
            "51/51 [==============================] - 15s 286ms/step - loss: 0.1869 - binary_accuracy: 0.9358 - val_loss: 0.3922 - val_binary_accuracy: 0.8338\n",
            "Epoch 12/200\n",
            "51/51 [==============================] - 15s 286ms/step - loss: 0.1942 - binary_accuracy: 0.9327 - val_loss: 0.3922 - val_binary_accuracy: 0.8366\n",
            "Epoch 13/200\n",
            "51/51 [==============================] - 15s 286ms/step - loss: 0.1881 - binary_accuracy: 0.9333 - val_loss: 0.3921 - val_binary_accuracy: 0.8366\n",
            "Epoch 14/200\n",
            "51/51 [==============================] - 15s 286ms/step - loss: 0.1862 - binary_accuracy: 0.9392 - val_loss: 0.3925 - val_binary_accuracy: 0.8310\n",
            "Epoch 15/200\n",
            "51/51 [==============================] - 15s 286ms/step - loss: 0.1854 - binary_accuracy: 0.9383 - val_loss: 0.3926 - val_binary_accuracy: 0.8310\n",
            "Epoch 16/200\n",
            "51/51 [==============================] - 15s 286ms/step - loss: 0.1796 - binary_accuracy: 0.9417 - val_loss: 0.3930 - val_binary_accuracy: 0.8410\n",
            "Epoch 17/200\n",
            "51/51 [==============================] - 15s 286ms/step - loss: 0.1889 - binary_accuracy: 0.9361 - val_loss: 0.3932 - val_binary_accuracy: 0.8310\n",
            "Epoch 18/200\n",
            "51/51 [==============================] - 15s 286ms/step - loss: 0.1838 - binary_accuracy: 0.9401 - val_loss: 0.3937 - val_binary_accuracy: 0.8310\n",
            "Epoch 19/200\n",
            "51/51 [==============================] - 15s 286ms/step - loss: 0.1852 - binary_accuracy: 0.9386 - val_loss: 0.3936 - val_binary_accuracy: 0.8338\n",
            "Epoch 20/200\n",
            "51/51 [==============================] - 15s 286ms/step - loss: 0.1832 - binary_accuracy: 0.9349 - val_loss: 0.3937 - val_binary_accuracy: 0.8338\n",
            "Epoch 21/200\n",
            "51/51 [==============================] - 15s 286ms/step - loss: 0.1859 - binary_accuracy: 0.9377 - val_loss: 0.3939 - val_binary_accuracy: 0.8338\n"
          ]
        }
      ],
      "metadata": {
        "id": "jQIeuWvLb6ah",
        "colab": {
          "base_uri": "https://localhost:8080/"
        },
        "outputId": "19b1727a-f149-4a0f-dc4e-e778a4f4c3b9"
      }
    },
    {
      "cell_type": "code",
      "source": [
        "model = keras.models.load_model(\"./transformer_ba/\")\n",
        "model.evaluate(x_test, y_test, verbose=1)"
      ],
      "metadata": {
        "colab": {
          "base_uri": "https://localhost:8080/"
        },
        "id": "JD6phhhUinPG",
        "outputId": "7efd4758-e272-4c49-ac7f-7d0ca1e20ddf"
      },
      "execution_count": null,
      "outputs": [
        {
          "output_type": "stream",
          "name": "stdout",
          "text": [
            "42/42 [==============================] - 3s 54ms/step - loss: 0.3693 - binary_accuracy: 0.8371\n"
          ]
        },
        {
          "output_type": "execute_result",
          "data": {
            "text/plain": [
              "[0.3692592680454254, 0.8611211886405945]"
            ]
          },
          "metadata": {},
          "execution_count": 47
        }
      ]
    },
    {
      "cell_type": "code",
      "source": [
        "# save our model for voting classifier\n",
        "model.save(\"transformer_ba\")\n",
        "!tar -czvf transformer_ba.tar.gz ./transformer_ba"
      ],
      "metadata": {
        "colab": {
          "base_uri": "https://localhost:8080/"
        },
        "id": "OCAwz-6GNx3k",
        "outputId": "25d4e078-a1ed-4a17-805a-e80feb13b767"
      },
      "execution_count": null,
      "outputs": [
        {
          "output_type": "stream",
          "name": "stderr",
          "text": [
            "WARNING:absl:Found untraced functions such as query_layer_call_fn, query_layer_call_and_return_conditional_losses, key_layer_call_fn, key_layer_call_and_return_conditional_losses, value_layer_call_fn while saving (showing 5 of 48). These functions will not be directly callable after loading.\n"
          ]
        },
        {
          "output_type": "stream",
          "name": "stdout",
          "text": [
            "INFO:tensorflow:Assets written to: transformer_ba/assets\n"
          ]
        },
        {
          "output_type": "stream",
          "name": "stderr",
          "text": [
            "INFO:tensorflow:Assets written to: transformer_ba/assets\n"
          ]
        },
        {
          "output_type": "stream",
          "name": "stdout",
          "text": [
            "./transformer_ba/\n",
            "./transformer_ba/keras_metadata.pb\n",
            "./transformer_ba/variables/\n",
            "./transformer_ba/variables/variables.index\n",
            "./transformer_ba/variables/variables.data-00000-of-00001\n",
            "./transformer_ba/saved_model.pb\n",
            "./transformer_ba/assets/\n"
          ]
        }
      ]
    },
    {
      "cell_type": "code",
      "source": [
        "! cp ./transformer_ba.tar.gz ./drive/MyDrive/ICNA_hackathon"
      ],
      "metadata": {
        "id": "oBghWiWJePHK"
      },
      "execution_count": null,
      "outputs": []
    },
    {
      "cell_type": "code",
      "source": [
        "import keras\n",
        "from matplotlib import pyplot as plt\n",
        "plt.xlim(0,11)\n",
        "plt.plot(history.history['loss'])\n",
        "plt.plot(history.history['val_loss'])\n",
        "plt.title('Transformer Loss')\n",
        "plt.ylabel('loss')\n",
        "plt.xlabel('epoch')\n",
        "plt.legend(['train', 'val'], loc='upper left')\n",
        "plt.savefig(\"Transformer Loss.png\", dpi=300)\n",
        "plt.show()\n"
      ],
      "metadata": {
        "colab": {
          "base_uri": "https://localhost:8080/",
          "height": 295
        },
        "id": "L_uj6cyKAIrH",
        "outputId": "d795aaa7-dc63-4417-c907-51f093f733ff"
      },
      "execution_count": null,
      "outputs": [
        {
          "output_type": "display_data",
          "data": {
            "text/plain": [
              "<Figure size 432x288 with 1 Axes>"
            ],
            "image/png": "[encoded data removed]"
          },
          "metadata": {
            "needs_background": "light"
          }
        }
      ]
    },
    {
      "cell_type": "code",
      "source": [
        "import keras\n",
        "from matplotlib import pyplot as plt\n",
        "plt.plot(history.history['binary_accuracy'])\n",
        "plt.xlim(0,15)\n",
        "plt.plot(history.history['val_binary_accuracy'])\n",
        "plt.title('Transformer accuracy')\n",
        "plt.ylabel('accuracy')\n",
        "plt.xlabel('epoch')\n",
        "plt.legend(['train', 'val'], loc='upper left')\n",
        "plt.savefig(\"Transformer Accuracy.png\", dpi=300)\n",
        "plt.show()\n"
      ],
      "metadata": {
        "colab": {
          "base_uri": "https://localhost:8080/",
          "height": 295
        },
        "id": "ymHHusGJo4rl",
        "outputId": "4035b85e-951d-48b6-e408-f939b785942d"
      },
      "execution_count": null,
      "outputs": [
        {
          "output_type": "display_data",
          "data": {
            "text/plain": [
              "<Figure size 432x288 with 1 Axes>"
            ],
            "image/png": "[encoded data removed]"
          },
          "metadata": {
            "needs_background": "light"
          }
        }
      ]
    }
  ],
  "metadata": {
    "colab": {
      "collapsed_sections": [],
      "name": "Timeseries_transformer_classification",
      "provenance": [],
      "machine_shape": "hm"
    },
    "kernelspec": {
      "display_name": "Python 3",
      "language": "python",
      "name": "python3"
    },
    "language_info": {
      "codemirror_mode": {
        "name": "ipython",
        "version": 3
      },
      "file_extension": ".py",
      "mimetype": "text/x-python",
      "name": "python",
      "nbconvert_exporter": "python",
      "pygments_lexer": "ipython3",
      "version": "3.7.0"
    },
    "accelerator": "GPU"
  },
  "nbformat": 4,
  "nbformat_minor": 0
}
