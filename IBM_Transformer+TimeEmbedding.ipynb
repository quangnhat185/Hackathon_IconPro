{
  "nbformat": 4,
  "nbformat_minor": 0,
  "metadata": {
    "colab": {
      "name": "IBM_Transformer+TimeEmbedding.ipynb",
      "provenance": [],
      "collapsed_sections": [],
      "machine_shape": "hm"
    },
    "kernelspec": {
      "name": "python3",
      "display_name": "Python 3"
    },
    "accelerator": "GPU"
  },
  "cells": [
    {
      "cell_type": "code",
      "source": [
        "import numpy as np\n",
        "import tensorflow as tf\n",
        "import random as rn\n",
        "import os\n",
        "\n",
        "seed_value = 34\n",
        "\n",
        "os.environ['PYTHONHASHSEED'] = '0'\n",
        "np.random.seed(seed_value)\n",
        "rn.seed(seed_value)\n",
        "tf.random.set_seed(seed_value)"
      ],
      "metadata": {
        "id": "ch9NgCq6XVcV"
      },
      "execution_count": null,
      "outputs": []
    },
    {
      "cell_type": "code",
      "metadata": {
        "id": "i6zxz6xZyWb2",
        "colab": {
          "base_uri": "https://localhost:8080/"
        },
        "outputId": "7b1934df-d517-465e-c367-1d11fd261bca"
      },
      "source": [
        "import numpy as np\n",
        "import pandas as pd\n",
        "import os, datetime\n",
        "import tensorflow as tf\n",
        "from tensorflow.keras.models import *\n",
        "from tensorflow.keras.layers import *\n",
        "print('Tensorflow version: {}'.format(tf.__version__))\n",
        "\n",
        "# import matplotlib.pyplot as plt\n",
        "# plt.style.use('seaborn')\n",
        "\n",
        "import warnings\n",
        "warnings.filterwarnings('ignore')\n",
        "\n",
        "from sklearn.model_selection import train_test_split\n"
      ],
      "execution_count": null,
      "outputs": [
        {
          "output_type": "stream",
          "name": "stdout",
          "text": [
            "Tensorflow version: 2.8.0\n"
          ]
        }
      ]
    },
    {
      "cell_type": "markdown",
      "metadata": {
        "id": "ykFSM9LT54LR"
      },
      "source": [
        "## Hyperparameters"
      ]
    },
    {
      "cell_type": "code",
      "source": [
        "! nvidia-smi"
      ],
      "metadata": {
        "colab": {
          "base_uri": "https://localhost:8080/"
        },
        "id": "eZeNhnLu8_s2",
        "outputId": "d724cf04-7c3d-4e46-bf95-924c90d8c7aa"
      },
      "execution_count": null,
      "outputs": [
        {
          "output_type": "stream",
          "name": "stdout",
          "text": [
            "Sun May 22 01:26:28 2022       \n",
            "+-----------------------------------------------------------------------------+\n",
            "| NVIDIA-SMI 460.32.03    Driver Version: 460.32.03    CUDA Version: 11.2     |\n",
            "|-------------------------------+----------------------+----------------------+\n",
            "| GPU  Name        Persistence-M| Bus-Id        Disp.A | Volatile Uncorr. ECC |\n",
            "| Fan  Temp  Perf  Pwr:Usage/Cap|         Memory-Usage | GPU-Util  Compute M. |\n",
            "|                               |                      |               MIG M. |\n",
            "|===============================+======================+======================|\n",
            "|   0  Tesla P100-PCIE...  Off  | 00000000:00:04.0 Off |                    0 |\n",
            "| N/A   41C    P0    28W / 250W |      0MiB / 16280MiB |      0%      Default |\n",
            "|                               |                      |                  N/A |\n",
            "+-------------------------------+----------------------+----------------------+\n",
            "                                                                               \n",
            "+-----------------------------------------------------------------------------+\n",
            "| Processes:                                                                  |\n",
            "|  GPU   GI   CI        PID   Type   Process name                  GPU Memory |\n",
            "|        ID   ID                                                   Usage      |\n",
            "|=============================================================================|\n",
            "|  No running processes found                                                 |\n",
            "+-----------------------------------------------------------------------------+\n"
          ]
        }
      ]
    },
    {
      "cell_type": "code",
      "metadata": {
        "id": "Acgb31zy5lcD"
      },
      "source": [
        "batch_size = 32\n",
        "seq_len = 500\n",
        "\n",
        "d_k = 256\n",
        "d_v = 256\n",
        "n_heads = 12\n",
        "ff_dim = 256"
      ],
      "execution_count": null,
      "outputs": []
    },
    {
      "cell_type": "markdown",
      "metadata": {
        "id": "HnPzNUPK50Ki"
      },
      "source": [
        "## Load IBM data"
      ]
    },
    {
      "cell_type": "code",
      "source": [
        "import numpy as np\n",
        "import datetime, os\n",
        "from sklearn.preprocessing import StandardScaler\n",
        "\n",
        "from tensorflow import keras\n",
        "from tensorflow.keras import layers\n",
        "\n",
        "def readucr(filename):\n",
        "    data = np.loadtxt(filename, delimiter=\"\\t\")\n",
        "    y = data[:, 0]\n",
        "    x = data[:, 1:]\n",
        "    return x, y.astype(int)\n",
        "\n",
        "\n",
        "root_url = \"https://raw.githubusercontent.com/hfawaz/cd-diagram/master/FordA/\"\n",
        "\n",
        "x_train, y_train = readucr(root_url + \"FordA_TRAIN.tsv\")\n",
        "x_test, y_test = readucr(root_url + \"FordA_TEST.tsv\")\n",
        "\n",
        "# sc = StandardScaler()\n",
        "# x_train = sc.fit_transform(x_train)\n",
        "# y_train = sc.transform(y_train)\n",
        "\n",
        "x_train = x_train.reshape((x_train.shape[0], x_train.shape[1], 1))\n",
        "X_test = x_test.reshape((x_test.shape[0], x_test.shape[1], 1))\n",
        "\n",
        "n_classes = len(np.unique(y_train))\n",
        "\n",
        "idx = np.random.permutation(len(x_train))\n",
        "x_train = x_train[idx]\n",
        "y_train = y_train[idx]\n",
        "\n",
        "y_train[y_train == -1] = 0\n",
        "y_test[y_test == -1] = 0"
      ],
      "metadata": {
        "id": "neD8t0bxwFeY"
      },
      "execution_count": null,
      "outputs": []
    },
    {
      "cell_type": "code",
      "source": [
        "X_train, X_val, y_train, y_val = train_test_split(x_train, y_train, test_size=0.1, random_state=34)"
      ],
      "metadata": {
        "id": "uivQmGJj5l8S"
      },
      "execution_count": null,
      "outputs": []
    },
    {
      "cell_type": "code",
      "source": [
        "print('Training set shape', X_train.shape, y_train.shape)\n",
        "print('Validation set shape', X_val.shape, y_val.shape)\n",
        "print('Testing set shape' ,X_test.shape, y_test.shape)"
      ],
      "metadata": {
        "colab": {
          "base_uri": "https://localhost:8080/"
        },
        "id": "sjTGILZgzdmH",
        "outputId": "81e8e44e-f4a5-409b-b25b-33e36686bb16"
      },
      "execution_count": null,
      "outputs": [
        {
          "output_type": "stream",
          "name": "stdout",
          "text": [
            "Training set shape (3240, 500, 1) (3240,)\n",
            "Validation set shape (361, 500, 1) (361,)\n",
            "Testing set shape (1320, 500, 1) (1320,)\n"
          ]
        }
      ]
    },
    {
      "cell_type": "markdown",
      "metadata": {
        "id": "5WhTPe6I6sDu"
      },
      "source": [
        "## TimeVector"
      ]
    },
    {
      "cell_type": "code",
      "metadata": {
        "id": "dUawOlTD5ljR"
      },
      "source": [
        "class Time2Vector(Layer):\n",
        "  def __init__(self, seq_len, **kwargs):\n",
        "    super(Time2Vector, self).__init__()\n",
        "    self.seq_len = seq_len\n",
        "\n",
        "  def build(self, input_shape):\n",
        "    '''Initialize weights and biases with shape (batch, seq_len)'''\n",
        "    self.weights_linear = self.add_weight(name='weight_linear',\n",
        "                                shape=(int(self.seq_len),),\n",
        "                                initializer='uniform',\n",
        "                                trainable=True)\n",
        "    \n",
        "    self.bias_linear = self.add_weight(name='bias_linear',\n",
        "                                shape=(int(self.seq_len),),\n",
        "                                initializer='uniform',\n",
        "                                trainable=True)\n",
        "    \n",
        "    self.weights_periodic = self.add_weight(name='weight_periodic',\n",
        "                                shape=(int(self.seq_len),),\n",
        "                                initializer='uniform',\n",
        "                                trainable=True)\n",
        "\n",
        "    self.bias_periodic = self.add_weight(name='bias_periodic',\n",
        "                                shape=(int(self.seq_len),),\n",
        "                                initializer='uniform',\n",
        "                                trainable=True)\n",
        "\n",
        "  def call(self, x):\n",
        "    '''Calculate linear and periodic time features'''\n",
        "    x = tf.math.reduce_mean(x[:,:,:], axis=-1) \n",
        "    time_linear = self.weights_linear * x + self.bias_linear # Linear time feature\n",
        "    time_linear = tf.expand_dims(time_linear, axis=-1) # Add dimension (batch, seq_len, 1)\n",
        "    \n",
        "    time_periodic = tf.math.sin(tf.multiply(x, self.weights_periodic) + self.bias_periodic)\n",
        "    time_periodic = tf.expand_dims(time_periodic, axis=-1) # Add dimension (batch, seq_len, 1)\n",
        "    return tf.concat([time_linear, time_periodic], axis=-1) # shape = (batch, seq_len, 2)\n",
        "   \n",
        "  def get_config(self): # Needed for saving and loading model with custom layer\n",
        "    config = super().get_config().copy()\n",
        "    config.update({'seq_len': self.seq_len})\n",
        "    return config\n",
        "  "
      ],
      "execution_count": null,
      "outputs": []
    },
    {
      "cell_type": "markdown",
      "metadata": {
        "id": "hJZOW8d56wyJ"
      },
      "source": [
        "## Transformer"
      ]
    },
    {
      "cell_type": "code",
      "metadata": {
        "id": "2Veb1wu_5lhE"
      },
      "source": [
        "class SingleAttention(Layer):\n",
        "  def __init__(self, d_k, d_v):\n",
        "    super(SingleAttention, self).__init__()\n",
        "    self.d_k = d_k\n",
        "    self.d_v = d_v\n",
        "\n",
        "  def build(self, input_shape):\n",
        "    self.query = Dense(self.d_k, \n",
        "                       input_shape=input_shape, \n",
        "                       kernel_initializer='glorot_uniform', \n",
        "                       bias_initializer='glorot_uniform')\n",
        "    \n",
        "    self.key = Dense(self.d_k, \n",
        "                     input_shape=input_shape, \n",
        "                     kernel_initializer='glorot_uniform', \n",
        "                     bias_initializer='glorot_uniform')\n",
        "    \n",
        "    self.value = Dense(self.d_v, \n",
        "                       input_shape=input_shape, \n",
        "                       kernel_initializer='glorot_uniform', \n",
        "                       bias_initializer='glorot_uniform')\n",
        "\n",
        "  def call(self, inputs): # inputs = (in_seq, in_seq, in_seq)\n",
        "    q = self.query(inputs[0])\n",
        "    k = self.key(inputs[1])\n",
        "\n",
        "    attn_weights = tf.matmul(q, k, transpose_b=True)\n",
        "    attn_weights = tf.map_fn(lambda x: x/np.sqrt(self.d_k), attn_weights)\n",
        "    attn_weights = tf.nn.softmax(attn_weights, axis=-1)\n",
        "    \n",
        "    v = self.value(inputs[2])\n",
        "    attn_out = tf.matmul(attn_weights, v)\n",
        "    return attn_out    \n",
        "\n",
        "#############################################################################\n",
        "\n",
        "class MultiAttention(Layer):\n",
        "  def __init__(self, d_k, d_v, n_heads):\n",
        "    super(MultiAttention, self).__init__()\n",
        "    self.d_k = d_k\n",
        "    self.d_v = d_v\n",
        "    self.n_heads = n_heads\n",
        "    self.attn_heads = list()\n",
        "\n",
        "  def build(self, input_shape):\n",
        "    for n in range(self.n_heads):\n",
        "      self.attn_heads.append(SingleAttention(self.d_k, self.d_v))  \n",
        "    \n",
        "    # input_shape[0]=(batch, seq_len, 7), input_shape[0][-1]=7 \n",
        "    self.linear = Dense(input_shape[0][-1], \n",
        "                        input_shape=input_shape, \n",
        "                        kernel_initializer='glorot_uniform', \n",
        "                        bias_initializer='glorot_uniform')\n",
        "\n",
        "  def call(self, inputs):\n",
        "    attn = [self.attn_heads[i](inputs) for i in range(self.n_heads)]\n",
        "    concat_attn = tf.concat(attn, axis=-1)\n",
        "    multi_linear = self.linear(concat_attn)\n",
        "    return multi_linear   \n",
        "\n",
        "#############################################################################\n",
        "\n",
        "class TransformerEncoder(Layer):\n",
        "  def __init__(self, d_k, d_v, n_heads, ff_dim, dropout=0.1, **kwargs):\n",
        "    super(TransformerEncoder, self).__init__()\n",
        "    self.d_k = d_k\n",
        "    self.d_v = d_v\n",
        "    self.n_heads = n_heads\n",
        "    self.ff_dim = ff_dim\n",
        "    self.attn_heads = list()\n",
        "    self.dropout_rate = dropout\n",
        "\n",
        "  def build(self, input_shape):\n",
        "    self.attn_multi = MultiAttention(self.d_k, self.d_v, self.n_heads)\n",
        "    self.attn_dropout = Dropout(self.dropout_rate)\n",
        "    self.attn_normalize = LayerNormalization(input_shape=input_shape, epsilon=1e-6)\n",
        "\n",
        "    self.ff_conv1D_1 = Conv1D(filters=self.ff_dim, kernel_size=1, activation='relu')\n",
        "    # input_shape[0]=(batch, seq_len, 7), input_shape[0][-1] = 7 \n",
        "    self.ff_conv1D_2 = Conv1D(filters=input_shape[0][-1], kernel_size=1) \n",
        "    self.ff_dropout = Dropout(self.dropout_rate)\n",
        "    self.ff_normalize = LayerNormalization(input_shape=input_shape, epsilon=1e-6)    \n",
        "  \n",
        "  def call(self, inputs): # inputs = (in_seq, in_seq, in_seq)\n",
        "    attn_layer = self.attn_multi(inputs)\n",
        "    attn_layer = self.attn_dropout(attn_layer)\n",
        "    attn_layer = self.attn_normalize(inputs[0] + attn_layer)\n",
        "\n",
        "    ff_layer = self.ff_conv1D_1(attn_layer)\n",
        "    ff_layer = self.ff_conv1D_2(ff_layer)\n",
        "    ff_layer = self.ff_dropout(ff_layer)\n",
        "    ff_layer = self.ff_normalize(inputs[0] + ff_layer)\n",
        "    return ff_layer \n",
        "\n",
        "  def get_config(self): # Needed for saving and loading model with custom layer\n",
        "    config = super().get_config().copy()\n",
        "    config.update({'d_k': self.d_k,\n",
        "                   'd_v': self.d_v,\n",
        "                   'n_heads': self.n_heads,\n",
        "                   'ff_dim': self.ff_dim,\n",
        "                   'attn_heads': self.attn_heads,\n",
        "                   'dropout_rate': self.dropout_rate})\n",
        "    return config          "
      ],
      "execution_count": null,
      "outputs": []
    },
    {
      "cell_type": "markdown",
      "metadata": {
        "id": "OtBanXmQB4jF"
      },
      "source": [
        "## Model"
      ]
    },
    {
      "cell_type": "code",
      "metadata": {
        "id": "n1z9GgwV5lZe",
        "colab": {
          "base_uri": "https://localhost:8080/"
        },
        "outputId": "49d1c215-3867-4a69-e63c-65e4eab364cd"
      },
      "source": [
        "def create_model():\n",
        "  '''Initialize time and transformer layers'''\n",
        "  time_embedding = Time2Vector(seq_len)\n",
        "  attn_layer1 = TransformerEncoder(d_k, d_v, n_heads, ff_dim)\n",
        "  attn_layer2 = TransformerEncoder(d_k, d_v, n_heads, ff_dim)\n",
        "  # attn_layer3 = TransformerEncoder(d_k, d_v, n_heads, ff_dim)\n",
        "  '''Construct model'''\n",
        "  in_seq = Input(shape=(seq_len, 1))\n",
        "  x = time_embedding(in_seq)\n",
        "  x = Concatenate(axis=-1)([in_seq, x])\n",
        "  x = attn_layer1((x, x, x))\n",
        "  x = attn_layer2((x, x, x))\n",
        "  # x = attn_layer3((x, x, x))\n",
        "  x = GlobalAveragePooling1D(data_format='channels_first')(x)\n",
        "  x = Dropout(0.25)(x)\n",
        "  x = Dense(256, activation='relu')(x)\n",
        "  x = Dropout(0.25)(x)\n",
        "  x = Dense(64, activation='relu')(x)\n",
        "  x = Dropout(0.1)(x)\n",
        "  out = Dense(1, activation='sigmoid')(x)\n",
        "\n",
        "  optimizer = tf.keras.optimizers.Adam(\n",
        "    learning_rate=1e-5,\n",
        "    beta_1=0.9,\n",
        "    beta_2=0.999,\n",
        "    epsilon=1e-07,\n",
        "    amsgrad=False,\n",
        "    name=\"Adam\",\n",
        "  )\n",
        "  model = Model(inputs=in_seq, outputs=out)\n",
        "  model.compile(loss='binary_crossentropy', optimizer=optimizer, metrics=[\"binary_accuracy\"])\n",
        "  return model\n",
        "\n",
        "\n",
        "# model = create_model()\n",
        "model.load_weights(\"best_model.h5\")\n",
        "model.summary()\n",
        "\n",
        "# callback = tf.keras.callbacks.ModelCheckpoint('Transformer+TimeEmbedding.hdf5', \n",
        "#                                               monitor='val_loss', \n",
        "#                                               save_best_only=True, verbose=1)\n",
        "\n",
        "callbacks = [\n",
        "    keras.callbacks.ModelCheckpoint(\n",
        "        \"best_model.h5\", save_best_only=True, monitor=\"val_loss\"\n",
        "    ),\n",
        "    keras.callbacks.ReduceLROnPlateau(\n",
        "        monitor=\"val_loss\", factor=0.5, patience=20, min_lr=0.0001\n",
        "    )\n",
        "    # keras.callbacks.EarlyStopping(monitor=\"val_loss\", patience=20, verbose=1)\n",
        "]\n",
        "\n",
        "###############################################################################\n",
        "# '''Display results'''\n",
        "\n",
        "# fig = plt.figure(figsize=(15,20))\n",
        "# st = fig.suptitle(\"Transformer + TimeEmbedding Model\", fontsize=22)\n",
        "# st.set_y(0.92)\n",
        "\n",
        "# #Plot training data results\n",
        "# ax11 = fig.add_subplot(311)\n",
        "# ax11.plot(train_data[:, 3], label='IBM Closing Returns')\n",
        "# ax11.plot(np.arange(seq_len, train_pred.shape[0]+seq_len), train_pred, linewidth=3, label='Predicted IBM Closing Returns')\n",
        "# ax11.set_title(\"Training Data\", fontsize=18)\n",
        "# ax11.set_xlabel('Date')\n",
        "# ax11.set_ylabel('IBM Closing Returns')\n",
        "# ax11.legend(loc=\"best\", fontsize=12)\n",
        "\n",
        "# #Plot validation data results\n",
        "# ax21 = fig.add_subplot(312)\n",
        "# ax21.plot(val_data[:, 3], label='IBM Closing Returns')\n",
        "# ax21.plot(np.arange(seq_len, val_pred.shape[0]+seq_len), val_pred, linewidth=3, label='Predicted IBM Closing Returns')\n",
        "# ax21.set_title(\"Validation Data\", fontsize=18)\n",
        "# ax21.set_xlabel('Date')\n",
        "# ax21.set_ylabel('IBM Closing Returns')\n",
        "# ax21.legend(loc=\"best\", fontsize=12)\n",
        "\n",
        "# #Plot test data results\n",
        "# ax31 = fig.add_subplot(313)\n",
        "# ax31.plot(test_data[:, 3], label='IBM Closing Returns')\n",
        "# ax31.plot(np.arange(seq_len, test_pred.shape[0]+seq_len), test_pred, linewidth=3, label='Predicted IBM Closing Returns')\n",
        "# ax31.set_title(\"Test Data\", fontsize=18)\n",
        "# ax31.set_xlabel('Date')\n",
        "# ax31.set_ylabel('IBM Closing Returns')\n",
        "# ax31.legend(loc=\"best\", fontsize=12)"
      ],
      "execution_count": null,
      "outputs": [
        {
          "output_type": "stream",
          "name": "stdout",
          "text": [
            "Model: \"model\"\n",
            "__________________________________________________________________________________________________\n",
            " Layer (type)                   Output Shape         Param #     Connected to                     \n",
            "==================================================================================================\n",
            " input_2 (InputLayer)           [(None, 500, 1)]     0           []                               \n",
            "                                                                                                  \n",
            " time2_vector_1 (Time2Vector)   (None, 500, 2)       2000        ['input_2[0][0]']                \n",
            "                                                                                                  \n",
            " concatenate_1 (Concatenate)    (None, 500, 3)       0           ['input_2[0][0]',                \n",
            "                                                                  'time2_vector_1[0][0]']         \n",
            "                                                                                                  \n",
            " transformer_encoder_2 (Transfo  (None, 500, 3)      47890       ['concatenate_1[0][0]',          \n",
            " rmerEncoder)                                                     'concatenate_1[0][0]',          \n",
            "                                                                  'concatenate_1[0][0]']          \n",
            "                                                                                                  \n",
            " transformer_encoder_3 (Transfo  (None, 500, 3)      47890       ['transformer_encoder_2[0][0]',  \n",
            " rmerEncoder)                                                     'transformer_encoder_2[0][0]',  \n",
            "                                                                  'transformer_encoder_2[0][0]']  \n",
            "                                                                                                  \n",
            " global_average_pooling1d (Glob  (None, 500)         0           ['transformer_encoder_3[0][0]']  \n",
            " alAveragePooling1D)                                                                              \n",
            "                                                                                                  \n",
            " dropout (Dropout)              (None, 500)          0           ['global_average_pooling1d[0][0]'\n",
            "                                                                 ]                                \n",
            "                                                                                                  \n",
            " dense (Dense)                  (None, 256)          128256      ['dropout[0][0]']                \n",
            "                                                                                                  \n",
            " dropout_1 (Dropout)            (None, 256)          0           ['dense[0][0]']                  \n",
            "                                                                                                  \n",
            " dense_1 (Dense)                (None, 64)           16448       ['dropout_1[0][0]']              \n",
            "                                                                                                  \n",
            " dropout_2 (Dropout)            (None, 64)           0           ['dense_1[0][0]']                \n",
            "                                                                                                  \n",
            " dense_2 (Dense)                (None, 1)            65          ['dropout_2[0][0]']              \n",
            "                                                                                                  \n",
            "==================================================================================================\n",
            "Total params: 242,549\n",
            "Trainable params: 242,549\n",
            "Non-trainable params: 0\n",
            "__________________________________________________________________________________________________\n"
          ]
        }
      ]
    },
    {
      "cell_type": "markdown",
      "metadata": {
        "id": "QiCB_z-iCMMr"
      },
      "source": [
        "## Model metrics"
      ]
    },
    {
      "cell_type": "code",
      "source": [
        "history = model.fit(X_train, y_train, \n",
        "                    batch_size=64, \n",
        "                    epochs=100, \n",
        "                    callbacks=callbacks,\n",
        "                    validation_data=(X_val, y_val))  "
      ],
      "metadata": {
        "colab": {
          "base_uri": "https://localhost:8080/"
        },
        "id": "iYujias37-ms",
        "outputId": "08ede5ad-ad7d-446c-910f-fa84d54a99d7"
      },
      "execution_count": null,
      "outputs": [
        {
          "output_type": "stream",
          "name": "stdout",
          "text": [
            "Epoch 1/100\n",
            "51/51 [==============================] - 34s 659ms/step - loss: 0.2672 - binary_accuracy: 0.8920 - val_loss: 0.5977 - val_binary_accuracy: 0.7341 - lr: 2.5000e-04\n",
            "Epoch 2/100\n",
            "51/51 [==============================] - 34s 664ms/step - loss: 0.2586 - binary_accuracy: 0.8978 - val_loss: 0.5864 - val_binary_accuracy: 0.7590 - lr: 2.5000e-04\n",
            "Epoch 3/100\n",
            "51/51 [==============================] - 33s 645ms/step - loss: 0.2528 - binary_accuracy: 0.8969 - val_loss: 0.6104 - val_binary_accuracy: 0.7341 - lr: 2.5000e-04\n",
            "Epoch 4/100\n",
            "51/51 [==============================] - 33s 646ms/step - loss: 0.2376 - binary_accuracy: 0.9031 - val_loss: 0.5984 - val_binary_accuracy: 0.7452 - lr: 2.5000e-04\n",
            "Epoch 5/100\n",
            "51/51 [==============================] - 33s 644ms/step - loss: 0.2240 - binary_accuracy: 0.9154 - val_loss: 0.6056 - val_binary_accuracy: 0.7562 - lr: 2.5000e-04\n",
            "Epoch 6/100\n",
            "51/51 [==============================] - 33s 646ms/step - loss: 0.2325 - binary_accuracy: 0.9083 - val_loss: 0.6034 - val_binary_accuracy: 0.7452 - lr: 2.5000e-04\n",
            "Epoch 7/100\n",
            "51/51 [==============================] - 33s 650ms/step - loss: 0.2258 - binary_accuracy: 0.9111 - val_loss: 0.6128 - val_binary_accuracy: 0.7452 - lr: 2.5000e-04\n",
            "Epoch 8/100\n",
            "51/51 [==============================] - 33s 643ms/step - loss: 0.2344 - binary_accuracy: 0.9019 - val_loss: 0.6272 - val_binary_accuracy: 0.7396 - lr: 2.5000e-04\n",
            "Epoch 9/100\n",
            "51/51 [==============================] - 33s 646ms/step - loss: 0.2112 - binary_accuracy: 0.9170 - val_loss: 0.6331 - val_binary_accuracy: 0.7341 - lr: 2.5000e-04\n",
            "Epoch 10/100\n",
            "51/51 [==============================] - 33s 646ms/step - loss: 0.2187 - binary_accuracy: 0.9105 - val_loss: 0.6363 - val_binary_accuracy: 0.7424 - lr: 2.5000e-04\n",
            "Epoch 11/100\n",
            "51/51 [==============================] - 33s 646ms/step - loss: 0.2194 - binary_accuracy: 0.9139 - val_loss: 0.6182 - val_binary_accuracy: 0.7479 - lr: 2.5000e-04\n",
            "Epoch 12/100\n",
            "51/51 [==============================] - 33s 645ms/step - loss: 0.2087 - binary_accuracy: 0.9133 - val_loss: 0.6372 - val_binary_accuracy: 0.7479 - lr: 2.5000e-04\n",
            "Epoch 13/100\n",
            "51/51 [==============================] - 33s 643ms/step - loss: 0.1951 - binary_accuracy: 0.9216 - val_loss: 0.6246 - val_binary_accuracy: 0.7452 - lr: 2.5000e-04\n",
            "Epoch 14/100\n",
            "51/51 [==============================] - 33s 651ms/step - loss: 0.2007 - binary_accuracy: 0.9182 - val_loss: 0.6300 - val_binary_accuracy: 0.7452 - lr: 2.5000e-04\n",
            "Epoch 15/100\n",
            "51/51 [==============================] - 33s 646ms/step - loss: 0.1901 - binary_accuracy: 0.9219 - val_loss: 0.6341 - val_binary_accuracy: 0.7424 - lr: 2.5000e-04\n",
            "Epoch 16/100\n",
            "51/51 [==============================] - 33s 644ms/step - loss: 0.2017 - binary_accuracy: 0.9185 - val_loss: 0.6350 - val_binary_accuracy: 0.7479 - lr: 2.5000e-04\n",
            "Epoch 17/100\n",
            "51/51 [==============================] - 33s 644ms/step - loss: 0.1953 - binary_accuracy: 0.9176 - val_loss: 0.6195 - val_binary_accuracy: 0.7396 - lr: 2.5000e-04\n",
            "Epoch 18/100\n",
            "51/51 [==============================] - 33s 652ms/step - loss: 0.1836 - binary_accuracy: 0.9293 - val_loss: 0.6614 - val_binary_accuracy: 0.7424 - lr: 2.5000e-04\n",
            "Epoch 19/100\n",
            "51/51 [==============================] - 33s 650ms/step - loss: 0.1784 - binary_accuracy: 0.9321 - val_loss: 0.6665 - val_binary_accuracy: 0.7452 - lr: 2.5000e-04\n",
            "Epoch 20/100\n",
            "51/51 [==============================] - 33s 643ms/step - loss: 0.1844 - binary_accuracy: 0.9253 - val_loss: 0.6338 - val_binary_accuracy: 0.7479 - lr: 2.5000e-04\n",
            "Epoch 21/100\n",
            "51/51 [==============================] - 33s 649ms/step - loss: 0.1638 - binary_accuracy: 0.9392 - val_loss: 0.6503 - val_binary_accuracy: 0.7424 - lr: 2.5000e-04\n",
            "Epoch 22/100\n",
            "51/51 [==============================] - 33s 646ms/step - loss: 0.1816 - binary_accuracy: 0.9259 - val_loss: 0.6438 - val_binary_accuracy: 0.7535 - lr: 2.5000e-04\n",
            "Epoch 23/100\n",
            "51/51 [==============================] - 33s 648ms/step - loss: 0.1607 - binary_accuracy: 0.9340 - val_loss: 0.6479 - val_binary_accuracy: 0.7479 - lr: 1.2500e-04\n",
            "Epoch 24/100\n",
            "51/51 [==============================] - 33s 649ms/step - loss: 0.1618 - binary_accuracy: 0.9395 - val_loss: 0.6516 - val_binary_accuracy: 0.7479 - lr: 1.2500e-04\n",
            "Epoch 25/100\n",
            "51/51 [==============================] - 33s 646ms/step - loss: 0.1634 - binary_accuracy: 0.9358 - val_loss: 0.6494 - val_binary_accuracy: 0.7562 - lr: 1.2500e-04\n",
            "Epoch 26/100\n",
            "51/51 [==============================] - 33s 647ms/step - loss: 0.1653 - binary_accuracy: 0.9312 - val_loss: 0.6735 - val_binary_accuracy: 0.7424 - lr: 1.2500e-04\n",
            "Epoch 27/100\n",
            "51/51 [==============================] - 33s 645ms/step - loss: 0.1546 - binary_accuracy: 0.9423 - val_loss: 0.6700 - val_binary_accuracy: 0.7452 - lr: 1.2500e-04\n",
            "Epoch 28/100\n",
            "51/51 [==============================] - 33s 650ms/step - loss: 0.1568 - binary_accuracy: 0.9395 - val_loss: 0.6798 - val_binary_accuracy: 0.7507 - lr: 1.2500e-04\n",
            "Epoch 29/100\n",
            "51/51 [==============================] - 33s 651ms/step - loss: 0.1498 - binary_accuracy: 0.9389 - val_loss: 0.6817 - val_binary_accuracy: 0.7396 - lr: 1.2500e-04\n",
            "Epoch 30/100\n",
            "51/51 [==============================] - 33s 650ms/step - loss: 0.1451 - binary_accuracy: 0.9444 - val_loss: 0.6853 - val_binary_accuracy: 0.7396 - lr: 1.2500e-04\n",
            "Epoch 31/100\n",
            "51/51 [==============================] - 33s 643ms/step - loss: 0.1460 - binary_accuracy: 0.9444 - val_loss: 0.6912 - val_binary_accuracy: 0.7507 - lr: 1.2500e-04\n",
            "Epoch 32/100\n",
            "51/51 [==============================] - 33s 641ms/step - loss: 0.1501 - binary_accuracy: 0.9466 - val_loss: 0.6642 - val_binary_accuracy: 0.7562 - lr: 1.2500e-04\n",
            "Epoch 33/100\n",
            "51/51 [==============================] - 33s 646ms/step - loss: 0.1491 - binary_accuracy: 0.9420 - val_loss: 0.6847 - val_binary_accuracy: 0.7535 - lr: 1.2500e-04\n",
            "Epoch 34/100\n",
            "51/51 [==============================] - 33s 651ms/step - loss: 0.1523 - binary_accuracy: 0.9407 - val_loss: 0.6658 - val_binary_accuracy: 0.7479 - lr: 1.2500e-04\n",
            "Epoch 35/100\n",
            "51/51 [==============================] - 33s 646ms/step - loss: 0.1430 - binary_accuracy: 0.9488 - val_loss: 0.6876 - val_binary_accuracy: 0.7590 - lr: 1.2500e-04\n",
            "Epoch 36/100\n",
            "51/51 [==============================] - 33s 651ms/step - loss: 0.1399 - binary_accuracy: 0.9423 - val_loss: 0.6867 - val_binary_accuracy: 0.7590 - lr: 1.2500e-04\n",
            "Epoch 37/100\n",
            "51/51 [==============================] - 33s 645ms/step - loss: 0.1382 - binary_accuracy: 0.9478 - val_loss: 0.7082 - val_binary_accuracy: 0.7452 - lr: 1.2500e-04\n",
            "Epoch 38/100\n",
            "51/51 [==============================] - 33s 644ms/step - loss: 0.1437 - binary_accuracy: 0.9417 - val_loss: 0.6906 - val_binary_accuracy: 0.7507 - lr: 1.2500e-04\n",
            "Epoch 39/100\n",
            "51/51 [==============================] - 33s 640ms/step - loss: 0.1388 - binary_accuracy: 0.9460 - val_loss: 0.6838 - val_binary_accuracy: 0.7562 - lr: 1.2500e-04\n",
            "Epoch 40/100\n",
            "51/51 [==============================] - 33s 651ms/step - loss: 0.1300 - binary_accuracy: 0.9512 - val_loss: 0.6814 - val_binary_accuracy: 0.7479 - lr: 1.2500e-04\n",
            "Epoch 41/100\n",
            "51/51 [==============================] - 33s 643ms/step - loss: 0.1343 - binary_accuracy: 0.9472 - val_loss: 0.6993 - val_binary_accuracy: 0.7645 - lr: 1.2500e-04\n",
            "Epoch 42/100\n",
            "51/51 [==============================] - 33s 645ms/step - loss: 0.1324 - binary_accuracy: 0.9494 - val_loss: 0.6858 - val_binary_accuracy: 0.7590 - lr: 1.2500e-04\n",
            "Epoch 43/100\n",
            "51/51 [==============================] - 33s 647ms/step - loss: 0.1204 - binary_accuracy: 0.9568 - val_loss: 0.7061 - val_binary_accuracy: 0.7535 - lr: 1.0000e-04\n",
            "Epoch 44/100\n",
            "51/51 [==============================] - 33s 643ms/step - loss: 0.1233 - binary_accuracy: 0.9537 - val_loss: 0.6906 - val_binary_accuracy: 0.7535 - lr: 1.0000e-04\n",
            "Epoch 45/100\n",
            "51/51 [==============================] - 33s 642ms/step - loss: 0.1217 - binary_accuracy: 0.9497 - val_loss: 0.6821 - val_binary_accuracy: 0.7535 - lr: 1.0000e-04\n",
            "Epoch 46/100\n",
            "51/51 [==============================] - 33s 651ms/step - loss: 0.1152 - binary_accuracy: 0.9549 - val_loss: 0.7169 - val_binary_accuracy: 0.7507 - lr: 1.0000e-04\n",
            "Epoch 47/100\n",
            "51/51 [==============================] - 33s 643ms/step - loss: 0.1204 - binary_accuracy: 0.9515 - val_loss: 0.7203 - val_binary_accuracy: 0.7535 - lr: 1.0000e-04\n",
            "Epoch 48/100\n",
            "51/51 [==============================] - 33s 648ms/step - loss: 0.1207 - binary_accuracy: 0.9568 - val_loss: 0.7192 - val_binary_accuracy: 0.7562 - lr: 1.0000e-04\n",
            "Epoch 49/100\n",
            "51/51 [==============================] - 33s 641ms/step - loss: 0.1320 - binary_accuracy: 0.9488 - val_loss: 0.7021 - val_binary_accuracy: 0.7562 - lr: 1.0000e-04\n",
            "Epoch 50/100\n",
            "51/51 [==============================] - 33s 645ms/step - loss: 0.1334 - binary_accuracy: 0.9525 - val_loss: 0.6703 - val_binary_accuracy: 0.7673 - lr: 1.0000e-04\n",
            "Epoch 51/100\n",
            "51/51 [==============================] - 33s 646ms/step - loss: 0.1263 - binary_accuracy: 0.9500 - val_loss: 0.7132 - val_binary_accuracy: 0.7535 - lr: 1.0000e-04\n",
            "Epoch 52/100\n",
            "51/51 [==============================] - 33s 649ms/step - loss: 0.1162 - binary_accuracy: 0.9559 - val_loss: 0.7187 - val_binary_accuracy: 0.7590 - lr: 1.0000e-04\n",
            "Epoch 53/100\n",
            "51/51 [==============================] - 33s 648ms/step - loss: 0.1208 - binary_accuracy: 0.9562 - val_loss: 0.7266 - val_binary_accuracy: 0.7535 - lr: 1.0000e-04\n",
            "Epoch 54/100\n",
            "51/51 [==============================] - 33s 642ms/step - loss: 0.1222 - binary_accuracy: 0.9537 - val_loss: 0.7061 - val_binary_accuracy: 0.7590 - lr: 1.0000e-04\n",
            "Epoch 55/100\n",
            "51/51 [==============================] - 33s 647ms/step - loss: 0.1199 - binary_accuracy: 0.9543 - val_loss: 0.7279 - val_binary_accuracy: 0.7535 - lr: 1.0000e-04\n",
            "Epoch 56/100\n",
            "51/51 [==============================] - 33s 645ms/step - loss: 0.1151 - binary_accuracy: 0.9537 - val_loss: 0.7182 - val_binary_accuracy: 0.7479 - lr: 1.0000e-04\n",
            "Epoch 57/100\n",
            "51/51 [==============================] - 33s 650ms/step - loss: 0.1123 - binary_accuracy: 0.9571 - val_loss: 0.7313 - val_binary_accuracy: 0.7507 - lr: 1.0000e-04\n",
            "Epoch 58/100\n",
            "51/51 [==============================] - 33s 649ms/step - loss: 0.1151 - binary_accuracy: 0.9546 - val_loss: 0.7319 - val_binary_accuracy: 0.7535 - lr: 1.0000e-04\n",
            "Epoch 59/100\n",
            "51/51 [==============================] - 33s 641ms/step - loss: 0.1108 - binary_accuracy: 0.9593 - val_loss: 0.7298 - val_binary_accuracy: 0.7535 - lr: 1.0000e-04\n",
            "Epoch 60/100\n",
            "51/51 [==============================] - 37s 729ms/step - loss: 0.1081 - binary_accuracy: 0.9586 - val_loss: 0.7146 - val_binary_accuracy: 0.7535 - lr: 1.0000e-04\n",
            "Epoch 61/100\n",
            "51/51 [==============================] - 33s 649ms/step - loss: 0.1215 - binary_accuracy: 0.9515 - val_loss: 0.7287 - val_binary_accuracy: 0.7452 - lr: 1.0000e-04\n",
            "Epoch 62/100\n",
            "51/51 [==============================] - 33s 652ms/step - loss: 0.1187 - binary_accuracy: 0.9562 - val_loss: 0.7524 - val_binary_accuracy: 0.7507 - lr: 1.0000e-04\n",
            "Epoch 63/100\n",
            "51/51 [==============================] - 33s 647ms/step - loss: 0.1156 - binary_accuracy: 0.9574 - val_loss: 0.7401 - val_binary_accuracy: 0.7535 - lr: 1.0000e-04\n",
            "Epoch 64/100\n",
            "51/51 [==============================] - 33s 645ms/step - loss: 0.1093 - binary_accuracy: 0.9617 - val_loss: 0.7448 - val_binary_accuracy: 0.7507 - lr: 1.0000e-04\n",
            "Epoch 65/100\n",
            "51/51 [==============================] - 33s 650ms/step - loss: 0.1060 - binary_accuracy: 0.9583 - val_loss: 0.7396 - val_binary_accuracy: 0.7507 - lr: 1.0000e-04\n",
            "Epoch 66/100\n",
            "51/51 [==============================] - 33s 647ms/step - loss: 0.1059 - binary_accuracy: 0.9593 - val_loss: 0.7538 - val_binary_accuracy: 0.7424 - lr: 1.0000e-04\n",
            "Epoch 67/100\n",
            "51/51 [==============================] - 33s 651ms/step - loss: 0.1134 - binary_accuracy: 0.9562 - val_loss: 0.7386 - val_binary_accuracy: 0.7452 - lr: 1.0000e-04\n",
            "Epoch 68/100\n",
            "51/51 [==============================] - 33s 647ms/step - loss: 0.1120 - binary_accuracy: 0.9590 - val_loss: 0.7442 - val_binary_accuracy: 0.7507 - lr: 1.0000e-04\n",
            "Epoch 69/100\n",
            "51/51 [==============================] - 33s 648ms/step - loss: 0.1080 - binary_accuracy: 0.9605 - val_loss: 0.7474 - val_binary_accuracy: 0.7424 - lr: 1.0000e-04\n",
            "Epoch 70/100\n",
            "51/51 [==============================] - 33s 649ms/step - loss: 0.1084 - binary_accuracy: 0.9580 - val_loss: 0.7451 - val_binary_accuracy: 0.7535 - lr: 1.0000e-04\n",
            "Epoch 71/100\n",
            "51/51 [==============================] - 33s 643ms/step - loss: 0.1028 - binary_accuracy: 0.9617 - val_loss: 0.7432 - val_binary_accuracy: 0.7535 - lr: 1.0000e-04\n",
            "Epoch 72/100\n",
            "51/51 [==============================] - 33s 646ms/step - loss: 0.0963 - binary_accuracy: 0.9633 - val_loss: 0.7619 - val_binary_accuracy: 0.7562 - lr: 1.0000e-04\n",
            "Epoch 73/100\n",
            "51/51 [==============================] - 33s 646ms/step - loss: 0.1070 - binary_accuracy: 0.9577 - val_loss: 0.7737 - val_binary_accuracy: 0.7452 - lr: 1.0000e-04\n",
            "Epoch 74/100\n",
            "51/51 [==============================] - 33s 651ms/step - loss: 0.0989 - binary_accuracy: 0.9620 - val_loss: 0.7730 - val_binary_accuracy: 0.7452 - lr: 1.0000e-04\n",
            "Epoch 75/100\n",
            "51/51 [==============================] - 33s 647ms/step - loss: 0.0967 - binary_accuracy: 0.9657 - val_loss: 0.7754 - val_binary_accuracy: 0.7424 - lr: 1.0000e-04\n",
            "Epoch 76/100\n",
            "51/51 [==============================] - 33s 645ms/step - loss: 0.1041 - binary_accuracy: 0.9620 - val_loss: 0.7571 - val_binary_accuracy: 0.7424 - lr: 1.0000e-04\n",
            "Epoch 77/100\n",
            "51/51 [==============================] - 33s 648ms/step - loss: 0.0992 - binary_accuracy: 0.9602 - val_loss: 0.8057 - val_binary_accuracy: 0.7368 - lr: 1.0000e-04\n",
            "Epoch 78/100\n",
            "51/51 [==============================] - 33s 648ms/step - loss: 0.1150 - binary_accuracy: 0.9565 - val_loss: 0.7508 - val_binary_accuracy: 0.7479 - lr: 1.0000e-04\n",
            "Epoch 79/100\n",
            "51/51 [==============================] - 33s 649ms/step - loss: 0.1069 - binary_accuracy: 0.9559 - val_loss: 0.7668 - val_binary_accuracy: 0.7368 - lr: 1.0000e-04\n",
            "Epoch 80/100\n",
            "51/51 [==============================] - 33s 649ms/step - loss: 0.0920 - binary_accuracy: 0.9664 - val_loss: 0.7695 - val_binary_accuracy: 0.7285 - lr: 1.0000e-04\n",
            "Epoch 81/100\n",
            "51/51 [==============================] - 33s 650ms/step - loss: 0.0953 - binary_accuracy: 0.9636 - val_loss: 0.7449 - val_binary_accuracy: 0.7368 - lr: 1.0000e-04\n",
            "Epoch 82/100\n",
            "51/51 [==============================] - 33s 647ms/step - loss: 0.0940 - binary_accuracy: 0.9614 - val_loss: 0.7696 - val_binary_accuracy: 0.7507 - lr: 1.0000e-04\n",
            "Epoch 83/100\n",
            "51/51 [==============================] - 33s 648ms/step - loss: 0.0927 - binary_accuracy: 0.9667 - val_loss: 0.7843 - val_binary_accuracy: 0.7424 - lr: 1.0000e-04\n",
            "Epoch 84/100\n",
            "51/51 [==============================] - 33s 654ms/step - loss: 0.0881 - binary_accuracy: 0.9645 - val_loss: 0.7877 - val_binary_accuracy: 0.7507 - lr: 1.0000e-04\n",
            "Epoch 85/100\n",
            "51/51 [==============================] - 33s 650ms/step - loss: 0.1040 - binary_accuracy: 0.9586 - val_loss: 0.7817 - val_binary_accuracy: 0.7507 - lr: 1.0000e-04\n",
            "Epoch 86/100\n",
            "51/51 [==============================] - 33s 647ms/step - loss: 0.0916 - binary_accuracy: 0.9630 - val_loss: 0.7845 - val_binary_accuracy: 0.7368 - lr: 1.0000e-04\n",
            "Epoch 87/100\n",
            "51/51 [==============================] - 33s 647ms/step - loss: 0.0948 - binary_accuracy: 0.9654 - val_loss: 0.7793 - val_binary_accuracy: 0.7479 - lr: 1.0000e-04\n",
            "Epoch 88/100\n",
            "51/51 [==============================] - 33s 650ms/step - loss: 0.0920 - binary_accuracy: 0.9636 - val_loss: 0.7797 - val_binary_accuracy: 0.7535 - lr: 1.0000e-04\n",
            "Epoch 89/100\n",
            "51/51 [==============================] - 33s 652ms/step - loss: 0.0949 - binary_accuracy: 0.9651 - val_loss: 0.7758 - val_binary_accuracy: 0.7452 - lr: 1.0000e-04\n",
            "Epoch 90/100\n",
            "51/51 [==============================] - 33s 644ms/step - loss: 0.0847 - binary_accuracy: 0.9688 - val_loss: 0.7973 - val_binary_accuracy: 0.7424 - lr: 1.0000e-04\n",
            "Epoch 91/100\n",
            "51/51 [==============================] - 33s 645ms/step - loss: 0.1049 - binary_accuracy: 0.9605 - val_loss: 0.8147 - val_binary_accuracy: 0.7424 - lr: 1.0000e-04\n",
            "Epoch 92/100\n",
            "51/51 [==============================] - 33s 652ms/step - loss: 0.0973 - binary_accuracy: 0.9633 - val_loss: 0.7638 - val_binary_accuracy: 0.7452 - lr: 1.0000e-04\n",
            "Epoch 93/100\n",
            "51/51 [==============================] - 33s 649ms/step - loss: 0.0894 - binary_accuracy: 0.9657 - val_loss: 0.7936 - val_binary_accuracy: 0.7535 - lr: 1.0000e-04\n",
            "Epoch 94/100\n",
            "51/51 [==============================] - 33s 654ms/step - loss: 0.0959 - binary_accuracy: 0.9642 - val_loss: 0.7722 - val_binary_accuracy: 0.7452 - lr: 1.0000e-04\n",
            "Epoch 95/100\n",
            "51/51 [==============================] - 33s 650ms/step - loss: 0.0796 - binary_accuracy: 0.9716 - val_loss: 0.7985 - val_binary_accuracy: 0.7424 - lr: 1.0000e-04\n",
            "Epoch 96/100\n",
            "51/51 [==============================] - 33s 650ms/step - loss: 0.0873 - binary_accuracy: 0.9670 - val_loss: 0.7903 - val_binary_accuracy: 0.7396 - lr: 1.0000e-04\n",
            "Epoch 97/100\n",
            "51/51 [==============================] - 33s 651ms/step - loss: 0.0921 - binary_accuracy: 0.9651 - val_loss: 0.7947 - val_binary_accuracy: 0.7396 - lr: 1.0000e-04\n",
            "Epoch 98/100\n",
            "51/51 [==============================] - 33s 647ms/step - loss: 0.0810 - binary_accuracy: 0.9701 - val_loss: 0.8003 - val_binary_accuracy: 0.7507 - lr: 1.0000e-04\n",
            "Epoch 99/100\n",
            "51/51 [==============================] - 33s 649ms/step - loss: 0.0818 - binary_accuracy: 0.9691 - val_loss: 0.8225 - val_binary_accuracy: 0.7507 - lr: 1.0000e-04\n",
            "Epoch 100/100\n",
            "51/51 [==============================] - 35s 684ms/step - loss: 0.0828 - binary_accuracy: 0.9691 - val_loss: 0.8198 - val_binary_accuracy: 0.7507 - lr: 1.0000e-04\n"
          ]
        }
      ]
    },
    {
      "cell_type": "code",
      "source": [
        "model.load_weights('best_model.h5')\n",
        "model.evaluate(X_test, y_test)"
      ],
      "metadata": {
        "id": "PFEc5RbrH1mP",
        "colab": {
          "base_uri": "https://localhost:8080/"
        },
        "outputId": "1e7e098a-58ec-4d94-ab48-c5802e927b4c"
      },
      "execution_count": null,
      "outputs": [
        {
          "output_type": "stream",
          "name": "stdout",
          "text": [
            "42/42 [==============================] - 5s 124ms/step - loss: 0.5912 - binary_accuracy: 0.7402\n"
          ]
        },
        {
          "output_type": "execute_result",
          "data": {
            "text/plain": [
              "[0.5912424325942993, 0.7401515245437622]"
            ]
          },
          "metadata": {},
          "execution_count": 23
        }
      ]
    },
    {
      "cell_type": "code",
      "source": [
        "from sklearn import metrics"
      ],
      "metadata": {
        "id": "ofo4qCiKPaN3"
      },
      "execution_count": null,
      "outputs": []
    },
    {
      "cell_type": "code",
      "source": [
        "import matplotlib.pyplot as plt\n",
        "from sklearn.metrics import plot_confusion_matrix\n",
        "y_pred = model.predict(x_test)\n",
        "y_pred = np.where(y_pred > 0.5, 1, 0)\n",
        "cm = metrics.confusion_matrix(y_test, y_pred[:,0])"
      ],
      "metadata": {
        "id": "eURj0U7bhWBh"
      },
      "execution_count": null,
      "outputs": []
    },
    {
      "cell_type": "code",
      "source": [
        "from sklearn.metrics import ConfusionMatrixDisplay\n",
        "disp = ConfusionMatrixDisplay(cm)\n",
        "# disp = disp.plot(include_values=include_values, cmap=cmap, ax=ax, xticks_rotation=xticks_rotation)\n",
        "disp.plot()\n",
        "plt.savefig(\"TimeEmbedding_confusion_matrix.png\", dpi=300)\n",
        "plt.show()"
      ],
      "metadata": {
        "colab": {
          "base_uri": "https://localhost:8080/",
          "height": 279
        },
        "id": "Qx8hBFeJIBcc",
        "outputId": "ac771f82-3295-4d4a-f5f7-8592a8421fa3"
      },
      "execution_count": null,
      "outputs": [
        {
          "output_type": "display_data",
          "data": {
            "text/plain": [
              "<Figure size 432x288 with 2 Axes>"
            ],
            "image/png": "[encoded data removed]"
          },
          "metadata": {
            "needs_background": "light"
          }
        }
      ]
    },
    {
      "cell_type": "code",
      "source": [
        "model.save(\"transformer_time2vec_2\")"
      ],
      "metadata": {
        "colab": {
          "base_uri": "https://localhost:8080/"
        },
        "id": "XbvbLPtLIRAc",
        "outputId": "43d9833d-bc1f-4a3c-c0f9-d80a94b8c3f1"
      },
      "execution_count": null,
      "outputs": [
        {
          "output_type": "stream",
          "name": "stderr",
          "text": [
            "WARNING:absl:Found untraced functions such as multi_attention_layer_call_fn, multi_attention_layer_call_and_return_conditional_losses, dropout_layer_call_fn, dropout_layer_call_and_return_conditional_losses, layer_normalization_layer_call_fn while saving (showing 5 of 336). These functions will not be directly callable after loading.\n"
          ]
        },
        {
          "output_type": "stream",
          "name": "stdout",
          "text": [
            "INFO:tensorflow:Assets written to: transformer_time2vec_2/assets\n"
          ]
        },
        {
          "output_type": "stream",
          "name": "stderr",
          "text": [
            "INFO:tensorflow:Assets written to: transformer_time2vec_2/assets\n"
          ]
        }
      ]
    },
    {
      "cell_type": "code",
      "source": [
        "# !tar -cvf  transformer_time2vec_2.tar.gz ./transformer_time2vec_2 \n",
        "!cp transformer_time2vec_2.tar.gz ./drive/MyDrive/ICNA_hackathon/"
      ],
      "metadata": {
        "id": "SmcumDw1I0wt"
      },
      "execution_count": null,
      "outputs": []
    },
    {
      "cell_type": "code",
      "source": [
        "from google.colab import drive\n",
        "drive.mount('/content/drive')"
      ],
      "metadata": {
        "colab": {
          "base_uri": "https://localhost:8080/"
        },
        "id": "Z0XA_h3VJl3v",
        "outputId": "10cac812-24ea-49e5-e7fa-1e9942b33b13"
      },
      "execution_count": null,
      "outputs": [
        {
          "output_type": "stream",
          "name": "stdout",
          "text": [
            "Mounted at /content/drive\n"
          ]
        }
      ]
    },
    {
      "cell_type": "code",
      "source": [
        "! tar -cvf "
      ],
      "metadata": {
        "id": "of0y18RhjjYl"
      },
      "execution_count": null,
      "outputs": []
    },
    {
      "cell_type": "code",
      "source": [
        "\n",
        "history = model.fit(X_train, y_train, \n",
        "                    batch_size=batch_size, \n",
        "                    epochs=35, \n",
        "                    callbacks=callbacks,\n",
        "                    validation_data=(X_val, y_val))  \n",
        "\n",
        "# model = tf.keras.models.load_model('/content/Transformer+TimeEmbedding.hdf5',\n",
        "#                                    custom_objects={'Time2Vector': Time2Vector, \n",
        "#                                                    'SingleAttention': SingleAttention,\n",
        "#                                                    'MultiAttention': MultiAttention,\n",
        "#                                                    'TransformerEncoder': TransformerEncoder})\n",
        "\n",
        "\n",
        "###############################################################################\n",
        "'''Calculate predictions and metrics'''\n",
        "\n",
        "#Calculate predication for training, validation and test data\n",
        "train_pred = model.predict(X_train)\n",
        "val_pred = model.predict(X_val)\n",
        "test_pred = model.predict(X_test)\n",
        "\n",
        "#Print evaluation metrics for all datasets\n",
        "train_eval = model.evaluate(X_train, y_train, verbose=0)\n",
        "val_eval = model.evaluate(X_val, y_val, verbose=0)\n",
        "test_eval = model.evaluate(X_test, y_test, verbose=0)\n",
        "print(' ')\n",
        "print('Evaluation metrics')\n",
        "print('Training Data - Loss: {:.4f}, MAE: {:.4f}, MAPE: {:.4f}'.format(train_eval[0], train_eval[1], train_eval[2]))\n",
        "print('Validation Data - Loss: {:.4f}, MAE: {:.4f}, MAPE: {:.4f}'.format(val_eval[0], val_eval[1], val_eval[2]))\n",
        "print('Test Data - Loss: {:.4f}, MAE: {:.4f}, MAPE: {:.4f}'.format(test_eval[0], test_eval[1], test_eval[2]))\n"
      ],
      "metadata": {
        "id": "xYUZBnRvxjUL"
      },
      "execution_count": null,
      "outputs": []
    },
    {
      "cell_type": "code",
      "source": [
        ""
      ],
      "metadata": {
        "id": "7anNfnxTIM6i"
      },
      "execution_count": null,
      "outputs": []
    },
    {
      "cell_type": "code",
      "source": [
        "callbacks = [\n",
        "    keras.callbacks.ModelCheckpoint(\n",
        "        \"best_model.h5\", save_best_only=True, monitor=\"val_loss\"\n",
        "    ),\n",
        "    keras.callbacks.ReduceLROnPlateau(\n",
        "        monitor=\"val_loss\", factor=0.5, patience=20, min_lr=0.0001\n",
        "    ),\n",
        "    keras.callbacks.EarlyStopping(monitor=\"val_loss\", patience=50, verbose=1)\n",
        "]"
      ],
      "metadata": {
        "id": "js0qZLt1x0HR"
      },
      "execution_count": null,
      "outputs": []
    },
    {
      "cell_type": "code",
      "source": [
        "import matplotlib.pyplot as plt"
      ],
      "metadata": {
        "id": "3miuj9W2henJ"
      },
      "execution_count": null,
      "outputs": []
    },
    {
      "cell_type": "code",
      "metadata": {
        "id": "maSSTkJPCOE8",
        "colab": {
          "base_uri": "https://localhost:8080/",
          "height": 439
        },
        "outputId": "5780d585-4235-428a-e2f0-24a16639d9e5"
      },
      "source": [
        "'''Display model metrics'''\n",
        "\n",
        "fig = plt.figure(figsize=(15,20))\n",
        "st = fig.suptitle(\"Transformer + TimeEmbedding Model Metrics\", fontsize=22)\n",
        "st.set_y(0.92)\n",
        "\n",
        "#Plot model loss\n",
        "# ax1 = fig.add_subplot(311)\n",
        "# ax1.set_xlim(0,8)\n",
        "# ax1.plot(history.history['loss'], label='Training loss')\n",
        "# ax1.plot(history.history['val_loss'], label='Validation loss')\n",
        "# ax1.set_title(\"Model loss\", fontsize=18)\n",
        "# ax1.set_xlabel('Epoch')\n",
        "# ax1.set_ylabel('Loss')\n",
        "# ax1.legend(loc=\"best\", fontsize=12)\n",
        "\n",
        "# plt.savefig(\"Time2vec.png\", dpi=300)\n",
        "\n",
        "\n",
        "ax1 = fig.add_subplot(311)\n",
        "ax1.set_xlim(0,8)\n",
        "ax1.plot(history.history['binary_accuracy'], label='Training accuracy')\n",
        "ax1.plot(history.history['val_binary_accuracy'], label='Validation accuracy')\n",
        "ax1.set_title(\"Model accuruacy\", fontsize=18)\n",
        "ax1.set_xlabel('Epoch')\n",
        "ax1.set_ylabel('Accuracy')\n",
        "ax1.legend(loc=\"best\", fontsize=12)\n",
        "\n",
        "plt.savefig(\"Time2vec_accuracy.png\", dpi=300)\n",
        "\n",
        "#Plot MAE\n",
        "# ax2 = fig.add_subplot(312)\n",
        "# ax2.plot(history.history['mae'], label='Training MAE')\n",
        "# ax2.plot(history.history['val_mae'], label='Validation MAE')\n",
        "# ax2.set_title(\"Model metric - Mean average error (MAE)\", fontsize=18)\n",
        "# ax2.set_xlabel('Epoch')\n",
        "# ax2.set_ylabel('Mean average error (MAE)')\n",
        "# ax2.legend(loc=\"best\", fontsize=12)\n",
        "\n",
        "#Plot MAPE\n",
        "# ax3 = fig.add_subplot(313)\n",
        "# ax3.plot(history.history['mape'], label='Training MAPE')\n",
        "# ax3.plot(history.history['val_mape'], label='Validation MAPE')\n",
        "# ax3.set_title(\"Model metric - Mean average percentage error (MAPE)\", fontsize=18)\n",
        "# ax3.set_xlabel('Epoch')\n",
        "# ax3.set_ylabel('Mean average percentage error (MAPE)')\n",
        "# ax3.legend(loc=\"best\", fontsize=12)"
      ],
      "execution_count": null,
      "outputs": [
        {
          "output_type": "display_data",
          "data": {
            "text/plain": [
              "<Figure size 1080x1440 with 1 Axes>"
            ],
            "image/png": "[encoded data removed]"
          },
          "metadata": {
            "needs_background": "light"
          }
        }
      ]
    },
    {
      "cell_type": "code",
      "metadata": {
        "id": "pNvUgwyfTjl0"
      },
      "source": [
        ""
      ],
      "execution_count": null,
      "outputs": []
    }
  ]
}